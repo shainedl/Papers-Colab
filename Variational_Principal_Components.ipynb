{
  "nbformat": 4,
  "nbformat_minor": 0,
  "metadata": {
    "colab": {
      "name": "Variational_Principal_Components.ipynb",
      "provenance": [],
      "collapsed_sections": [],
      "include_colab_link": true
    },
    "kernelspec": {
      "name": "python3",
      "display_name": "Python 3"
    }
  },
  "cells": [
    {
      "cell_type": "markdown",
      "metadata": {
        "id": "view-in-github",
        "colab_type": "text"
      },
      "source": [
        "<a href=\"https://colab.research.google.com/github/shainedl/Papers-Colab/blob/master/Variational_Principal_Components.ipynb\" target=\"_parent\"><img src=\"https://colab.research.google.com/assets/colab-badge.svg\" alt=\"Open In Colab\"/></a>"
      ]
    },
    {
      "cell_type": "markdown",
      "metadata": {
        "id": "khdsw1Chol0V",
        "colab_type": "text"
      },
      "source": [
        "Based on *Variational Principal Components* (Bishop '99)"
      ]
    },
    {
      "cell_type": "code",
      "metadata": {
        "id": "SDsLw_WLUCcn",
        "colab_type": "code",
        "colab": {}
      },
      "source": [
        "import numpy as np\n",
        "import scipy.special as sp\n",
        "from scipy.stats import multivariate_normal \n",
        "from scipy.stats import gamma \n",
        "import matplotlib.pyplot as plt"
      ],
      "execution_count": 0,
      "outputs": []
    },
    {
      "cell_type": "code",
      "metadata": {
        "id": "zCND_ufcSiGM",
        "colab_type": "code",
        "colab": {}
      },
      "source": [
        "class BayesianPCA():\n",
        "  \n",
        "  def __init__(self, a_alpha=10e-3, b_alpha=10e-3, a_tau=10e-3, b_tau=10e-3, beta=10e-3):\n",
        "    \n",
        "    # hyperparameters\n",
        "    self.a_alpha = a_alpha\n",
        "    self.b_alpha = b_alpha\n",
        "    self.a_tau = a_tau\n",
        "    self.b_tau = b_tau\n",
        "    self.beta = beta \n",
        "     \n",
        "  def __reestimate(self):\n",
        "    \"\"\"\n",
        "    Cycle through the groups of variables in turn to re-estimate each distribution \n",
        "    \"\"\"\n",
        "    \n",
        "    # observation parameter\n",
        "    self.tau = self.a_tau_tilde / self.b_tau_tilde\n",
        "\n",
        "    # latent variables\n",
        "    self.sigma_x = np.linalg.inv(np.identity(self.q) + self.tau *\n",
        "                   (np.trace(self.sigma_w) + np.dot(self.mean_w.T, self.mean_w)))\n",
        "    self.mean_x = self.tau * np.dot(np.dot(self.sigma_x, self.mean_w.T),(self.t_n - self.mean_mu))\n",
        "\n",
        "    # observation parameter                                \n",
        "    self.sigma_mu = np.identity(self.d) / (self.beta + self.N * self.tau)\n",
        "    w_x = np.dot(self.mean_w, self.mean_x)\n",
        "    sum = 0\n",
        "    for n in range(self.N):\n",
        "      sum += np.subtract(self.t_n[:,n], w_x[:,n])\n",
        "    self.mean_mu = (self.tau * np.dot(self.sigma_mu, sum)).reshape(-1,1)\n",
        "    \n",
        "    # hyperparameter controlling the columns of W\n",
        "    self.alpha = self.a_alpha_tilde / self.b_alpha_tilde\n",
        "                                     \n",
        "    # weight                                 \n",
        "    self.sigma_w = np.linalg.inv(np.diag(self.alpha) + self.tau * \n",
        "                   (self.N * self.sigma_x + np.dot(self.mean_x, self.mean_x.T)))\n",
        "    self.mean_w = (self.tau * np.dot(self.sigma_w, np.dot(self.mean_x, (np.subtract(self.t_n.T, self.mean_mu.T))))).T\n",
        "    \n",
        "    # alpha's gamma distribution parameter                            \n",
        "    self.b_alpha_tilde = self.b_alpha + 0.5 * (np.trace(self.sigma_w) + np.diag(np.dot(self.mean_w.T, self.mean_w)))                                                     \n",
        "    \n",
        "    # tau's gamma distribution parameter     \n",
        "    self.b_tau_tilde = np.asarray([self.b_tau + 0.5 * np.sum(np.dot(self.t_n.T, self.t_n))  + \\\n",
        "                       0.5 * self.N * (np.trace(self.sigma_mu) + np.dot(self.mean_mu.flatten(), self.mean_mu.flatten())) + \\\n",
        "                       0.5 * np.trace(np.dot(np.trace(self.sigma_w) + \\\n",
        "                       np.dot(self.mean_w.T, self.mean_w), self.N * self.sigma_x + \\\n",
        "                       np.dot(self.mean_x, self.mean_x.T))) + \\\n",
        "                       np.sum(np.dot(np.dot(self.mean_mu.T, self.mean_w), self.mean_x)) - \\\n",
        "                       np.sum(np.dot(np.dot(self.t_n.T, self.mean_w), self.mean_x)) - \\\n",
        "                       np.sum(np.dot(self.t_n.T, self.mean_mu))])       \n",
        "    \n",
        "  def __get_elbo(self):\n",
        "    \"\"\"\n",
        "    Computes the rigorous lower bound on the true log marginal likelihood \n",
        "    \n",
        "    Returns\n",
        "    -------\n",
        "      float\n",
        "        the lower bound = prior + likelihood - entropy \n",
        "    \n",
        "    \"\"\"                             \n",
        "    # random sample\n",
        "    x = np.asarray([np.random.multivariate_normal(self.mean_x[:,n], self.sigma_x) for n in range(self.N)]).T\n",
        "    mu = np.random.multivariate_normal(self.mean_mu.flatten(), self.sigma_mu)\n",
        "    w = np.asarray([np.random.multivariate_normal(self.mean_w[i], self.sigma_w) for i in range(self.d)])\n",
        "    alpha = np.random.gamma(self.a_alpha_tilde, 1 / self.b_alpha_tilde)     \n",
        "    tau = np.random.gamma(self.a_tau_tilde, 1 / self.b_tau_tilde)      \n",
        "      \n",
        "    # priors\n",
        "    # p(x) = N(x|0,I_q)\n",
        "    prior = np.sum(np.asarray([multivariate_normal.logpdf(x[:,i], np.zeros(self.q), np.identity(self.q)) for i in range(self.N)]))\n",
        "\n",
        "    # p(w|alpha) = conditional distribution                   \n",
        "    prior += np.sum(np.asarray([(self.d / 2) * np.log(alpha[i] / (2 * np.pi)) - 0.5 * alpha[i] * np.sum(np.power(w[:,i],2)) for i in range(self.q)]))                \n",
        "                           \n",
        "    # p(alpha) = Gamma(a, b)                             \n",
        "    prior += np.sum(gamma.logpdf(alpha, self.a_alpha, scale=1/self.b_alpha))                            \n",
        "                           \n",
        "    # p(mu) = N(mu|0,Beta^-1I)       \n",
        "    prior += multivariate_normal.logpdf(mu, np.zeros(self.d), np.identity(self.d)/self.beta)\n",
        "               \n",
        "    # p(tau) = Gamma(c, d)      \n",
        "    prior += np.sum(gamma.logpdf(tau, self.a_tau, scale=1/self.b_tau))\n",
        "                    \n",
        "      \n",
        "    # log likelihood of the conditional distribution \n",
        "    # p(t_n | x_n, W, mu, tau)\n",
        "    w_x = np.dot(w, x)\n",
        "    list_t = []\n",
        "    for n in range(self.N):\n",
        "      list_t.append(w_x[:,n] + mu)\n",
        "    likelihood = np.sum(np.asarray([multivariate_normal.logpdf(self.t_n[:,n], np.asarray(list_t).T[:,n], np.identity(self.d) / tau) for n in range(self.N)]))                 \n",
        "      \n",
        "      \n",
        "    # entropy\n",
        "    # q(x) \n",
        "    entropy = self.N * (0.5 * np.log(np.linalg.det(self.sigma_x) + (self.d / 2) * (1 + np.log(2 * np.pi))))                    \n",
        "    # q(mu)\n",
        "    entropy += 0.5 * np.log(np.linalg.det(self.sigma_mu) + (self.d / 2) * (1 + np.log(2 * np.pi)))                         \n",
        "    # q(W)      \n",
        "    entropy += self.d * (0.5 * np.log(np.linalg.det(self.sigma_w) + (self.d / 2) * (1 + np.log(2 * np.pi))))                        \n",
        "    # q(alpha)\n",
        "    entropy += self.q * (np.log(sp.gamma(self.a_alpha_tilde)) - (self.a_alpha_tilde - 1) \\\n",
        "                        * sp.digamma(self.a_alpha_tilde) + self.a_alpha_tilde)\n",
        "    for i in range(self.q):\n",
        "      entropy -= np.log(self.b_alpha_tilde[i])\n",
        "                      \n",
        "    # q(tau)   \n",
        "    entropy += - (self.a_tau_tilde - 1) * sp.digamma(self.a_tau_tilde) - \\\n",
        "               np.log(self.b_tau_tilde) + self.a_tau_tilde  \n",
        "    # will ignore np.log(sp.gamma(self.a_tau_tilde)) since = inf\n",
        "\n",
        "    \n",
        "    return prior + likelihood - entropy   \n",
        "                         \n",
        "  def fit(self, t_n, iterations = 1000, threshold = 0.05):\n",
        "    \"\"\"\n",
        "    Fits the data\n",
        "    \n",
        "    Parameters \n",
        "    ----------\n",
        "    t_n : d x N matrix\n",
        "      observed data to be fit\n",
        "      \n",
        "    iterations: int\n",
        "      number of iterations to re-estimate the lower bound\n",
        "    \n",
        "    threshold: float\n",
        "      determines convergence\n",
        "      \n",
        "    \"\"\"\n",
        "    self.t_n = t_n\n",
        "    self.d = self.t_n.shape[0]                     \n",
        "    self.q = self.d - 1\n",
        "    self.N = self.t_n.shape[1]   \n",
        "    \n",
        "    # variational parameters\n",
        "    self.mean_x = np.random.randn(self.q, self.N)\n",
        "    self.sigma_x = np.identity(self.q)\n",
        "    self.mean_mu = np.random.randn(self.d, 1)\n",
        "    self.sigma_mu = np.identity(self.d)\n",
        "    self.mean_w = np.random.randn(self.d, self.q)\n",
        "    self.sigma_w = np.identity(self.q)\n",
        "    self.a_alpha_tilde = self.a_alpha + self.d / 2\n",
        "    self.b_alpha_tilde = np.abs(np.random.randn(self.q))  \n",
        "    self.a_tau_tilde = self.a_tau + self.N * self.d / 2\n",
        "    self.b_tau_tilde = np.abs(np.random.randn(1))\n",
        "                     \n",
        "    self.elbos = [self.__get_elbo()]  \n",
        "    for i in range(iterations):\n",
        "      self.__reestimate()\n",
        "      self.elbos.append(self.__get_elbo())\n",
        "      if np.abs(self.elbos[-2] - self.elbos[-1]) <= threshold:\n",
        "        print('ELBO converged.')\n",
        "        print(\"Iterations: \", i+1)                   \n",
        "        print(\"ELBO: \", int(self.elbos[-1])) \n",
        "        break\n",
        "              \n",
        "      if (i+1) % 100 == 0:\n",
        "        print(\"Iterations: \", i+1)                   \n",
        "        print(\"ELBO: \", int(self.elbos[-1])) \n",
        "        \n",
        "        if i == iterations:\n",
        "          print('Ended without convergence.')\n",
        "   "
      ],
      "execution_count": 0,
      "outputs": []
    },
    {
      "cell_type": "code",
      "metadata": {
        "id": "zNmSIgRA7U_G",
        "colab_type": "code",
        "colab": {}
      },
      "source": [
        "def hinton(matrix, max_weight=None, ax=None):\n",
        "    \"\"\"\n",
        "    Draw Hinton diagram for visualizing a weight matrix.\n",
        "    From https://matplotlib.org/3.1.1/gallery/specialty_plots/hinton_demo.html\n",
        "    \n",
        "    \"\"\"\n",
        "    ax = ax if ax is not None else plt.gca()\n",
        "\n",
        "    if not max_weight:\n",
        "        max_weight = 2 ** np.ceil(np.log(np.abs(matrix).max()) / np.log(2))\n",
        "\n",
        "    ax.patch.set_facecolor('gray')\n",
        "    ax.set_aspect('equal', 'box')\n",
        "    ax.xaxis.set_major_locator(plt.NullLocator())\n",
        "    ax.yaxis.set_major_locator(plt.NullLocator())\n",
        "\n",
        "    for (x, y), w in np.ndenumerate(matrix):\n",
        "        color = 'white' if w > 0 else 'black'\n",
        "        size = np.sqrt(np.abs(w) / max_weight)\n",
        "        rect = plt.Rectangle([x - size / 2, y - size / 2], size, size,\n",
        "                             facecolor=color, edgecolor=color)\n",
        "        ax.add_patch(rect)\n",
        "\n",
        "    ax.autoscale_view()\n",
        "    ax.invert_yaxis()"
      ],
      "execution_count": 0,
      "outputs": []
    },
    {
      "cell_type": "code",
      "metadata": {
        "id": "yH_htTIfjNV3",
        "colab_type": "code",
        "outputId": "3c6dfe5f-4837-44db-ca3b-f6dac0cd403a",
        "colab": {
          "base_uri": "https://localhost:8080/",
          "height": 306
        }
      },
      "source": [
        "\"\"\"\n",
        "We generate 100 data points in d = 10 dimensions from a Gaussian distribution \n",
        "having standard deviations of (5, 4, 3, 2) along four orthogonal directions \n",
        "and a standard deviation of 1 in the remaining five directions\n",
        "\"\"\"\n",
        "X = np.random.multivariate_normal(np.zeros(10), np.diag([5,4,3,2,1,1,1,1,1,1]), 100).T\n",
        "\n",
        "\"\"\"\n",
        "Hinton diagram of <W> from variational Bayesian PCA \n",
        "\"\"\"\n",
        "test = BayesianPCA()\n",
        "test.fit(X) \n",
        "hinton(test.mean_w.T)"
      ],
      "execution_count": 200,
      "outputs": [
        {
          "output_type": "stream",
          "text": [
            "ELBO converged.\n",
            "Iterations:  18\n",
            "ELBO:  -477\n"
          ],
          "name": "stdout"
        },
        {
          "output_type": "display_data",
          "data": {
            "image/png": "[encoded data removed]",
            "text/plain": [
              "<Figure size 432x288 with 1 Axes>"
            ]
          },
          "metadata": {
            "tags": []
          }
        }
      ]
    },
    {
      "cell_type": "markdown",
      "metadata": {
        "id": "o42ZgAIKqDLo",
        "colab_type": "text"
      },
      "source": [
        "Other helpful links:\n",
        "\n",
        "https://en.wikipedia.org/wiki/Variance\n",
        " - For expection of $X^{T}X$ or $||X||^2$\n",
        " \n",
        "https://www.cs.princeton.edu/courses/archive/fall11/cos597C/lectures/variational-inference-i.pdf\n",
        "\n",
        "https://www.programcreek.com/python/example/57185/numpy.random.multivariate_normal\n",
        "- For generating random samples"
      ]
    }
  ]
}