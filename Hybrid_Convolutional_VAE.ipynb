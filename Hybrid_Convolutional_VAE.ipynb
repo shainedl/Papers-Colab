{
  "nbformat": 4,
  "nbformat_minor": 0,
  "metadata": {
    "colab": {
      "name": "Hybrid_Convolutional_VAE.ipynb",
      "provenance": [],
      "collapsed_sections": [],
      "include_colab_link": true
    },
    "kernelspec": {
      "name": "python3",
      "display_name": "Python 3"
    }
  },
  "cells": [
    {
      "cell_type": "markdown",
      "metadata": {
        "id": "view-in-github",
        "colab_type": "text"
      },
      "source": [
        "<a href=\"https://colab.research.google.com/github/shainedl/Papers-Colab/blob/master/Hybrid_Convolutional_VAE.ipynb\" target=\"_parent\"><img src=\"https://colab.research.google.com/assets/colab-badge.svg\" alt=\"Open In Colab\"/></a>"
      ]
    },
    {
      "cell_type": "markdown",
      "metadata": {
        "id": "jRm2MachEdba",
        "colab_type": "text"
      },
      "source": [
        "Based on *A Hybrid Convolutional Variational Autoencoder for Text Generation* (Semeniuta et al, Univweaitat zu Lubeck)"
      ]
    },
    {
      "cell_type": "code",
      "metadata": {
        "id": "pja0xCLkENyi",
        "colab_type": "code",
        "colab": {}
      },
      "source": [
        "import torch\n",
        "from torch import nn"
      ],
      "execution_count": 0,
      "outputs": []
    },
    {
      "cell_type": "code",
      "metadata": {
        "id": "SVrASc8MGSBL",
        "colab_type": "code",
        "colab": {}
      },
      "source": [
        "class VAE(nn.Module):\n",
        "  def __init__(self, input_size):\n",
        "    super(VAE, self).__init__()\n",
        "    \n",
        "    self.cnn_layers1 = nn.Sequential(\n",
        "        # Defining 1st 1D convolution layer\n",
        "        nn.Conv1D(input_size, 128, kernel_size=3, stride=2),\n",
        "        nn.BatchNorm1D(128),\n",
        "        nn.ReLU(),\n",
        "\n",
        "        # Defining 2nd 1D convolution layer\n",
        "        nn.Conv1D(128, 256, kernel_size=3, stride=2),\n",
        "        nn.BatchNorm1D(256),\n",
        "        nn.ReLU(),  \n",
        "        \n",
        "        # Defining 3rd 1D convolution layer\n",
        "        nn.Conv1D(256, 512, kernel_size=3, stride=2),\n",
        "        nn.BatchNorm1D(512),\n",
        "        nn.ReLU(),    \n",
        "\n",
        "        # Defining 4th 1D convolution layer\n",
        "        nn.Conv1D(512, 512, kernel_size=3, stride=2),\n",
        "        nn.BatchNorm1D(512),\n",
        "        nn.ReLU(),    \n",
        "\n",
        "        # Defining 5th 1D convolution layer\n",
        "        nn.Conv1D(512, 512, kernel_size=3, stride=2),\n",
        "        nn.BatchNorm1D(512),\n",
        "        nn.ReLU()           \n",
        "    )\n",
        "\n",
        "    self.cnn_layers2 = nn.Sequential(\n",
        "        # Defining 1st 1D deconvolution layer\n",
        "        nn.ConvTranspose1D(512, 512, kernel_size=3, stride=2),\n",
        "        nn.BatchNorm1D(512),\n",
        "        nn.ReLU(),\n",
        "\n",
        "        # Defining 2nd 1D deconvolution layer\n",
        "        nn.ConvTranspose1D(512, 512, kernel_size=3, stride=2),\n",
        "        nn.BatchNorm1D(512),\n",
        "        nn.ReLU(),    \n",
        "\n",
        "        # Defining 3rd 1D deconvolution layer\n",
        "        nn.ConvTranspose1D(512, 512, kernel_size=3, stride=2),\n",
        "        nn.BatchNorm1D(512),\n",
        "        nn.ReLU(),    \n",
        "\n",
        "        # Defining 4th 1D deconvolution layer        \n",
        "        nn.ConvTranspose1D(512, 256, kernel_size=3, stride=2),\n",
        "        nn.BatchNorm1D(256),\n",
        "        nn.ReLU(),    \n",
        "\n",
        "        # Defining 5th 1D deconvolution layer\n",
        "        nn.ConvTranspose1D(256, 128, kernel_size=3, stride=2),\n",
        "        nn.BatchNorm1D(128),\n",
        "        nn.ReLU()        \n",
        "    )\n",
        "  \n",
        "  def encode(self, x):\n",
        "\n",
        "  \n",
        "  def decode(self, z):\n",
        "\n",
        "  \n",
        "  def forward(self, x):\n",
        "\n",
        "  \n",
        "  def __reparameterize(self, mu, logvar):\n",
        "    "
      ],
      "execution_count": 0,
      "outputs": []
    }
  ]
}