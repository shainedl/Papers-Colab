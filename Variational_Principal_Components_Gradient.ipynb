{
  "nbformat": 4,
  "nbformat_minor": 0,
  "metadata": {
    "colab": {
      "name": "Variational_Principal_Components-Gradient.ipynb",
      "provenance": [],
      "collapsed_sections": [],
      "include_colab_link": true
    },
    "kernelspec": {
      "name": "python3",
      "display_name": "Python 3"
    }
  },
  "cells": [
    {
      "cell_type": "markdown",
      "metadata": {
        "id": "view-in-github",
        "colab_type": "text"
      },
      "source": [
        "<a href=\"https://colab.research.google.com/github/shainedl/Papers-Colab/blob/master/Variational_Principal_Components_Gradient.ipynb\" target=\"_parent\"><img src=\"https://colab.research.google.com/assets/colab-badge.svg\" alt=\"Open In Colab\"/></a>"
      ]
    },
    {
      "cell_type": "code",
      "metadata": {
        "id": "_EcQh6hjN224",
        "colab_type": "code",
        "colab": {}
      },
      "source": [
        "import torch\n",
        "import torch.distributions as tdist\n",
        "from torch.distributions.multivariate_normal import MultivariateNormal as multivariate_normal\n",
        "import math"
      ],
      "execution_count": 0,
      "outputs": []
    },
    {
      "cell_type": "code",
      "metadata": {
        "id": "qbPYGX67HLZV",
        "colab_type": "code",
        "colab": {}
      },
      "source": [
        "class BayesianPCA():\n",
        "  \n",
        "  def __init__(self, a_alpha=10e-3, b_alpha=10e-3, a_tau=10e-3, b_tau=10e-3, beta=10e-3):\n",
        "    \n",
        "    # hyperparameters\n",
        "    self.a_alpha = a_alpha\n",
        "    self.b_alpha = b_alpha\n",
        "    self.a_tau = a_tau\n",
        "    self.b_tau = b_tau\n",
        "    self.beta = beta \n",
        "    \n",
        "  def __get_elbo(self):\n",
        "    \"\"\"\n",
        "    Computes the rigorous lower bound on the true log marginal likelihood \n",
        "    \n",
        "    Returns\n",
        "    -------\n",
        "      float\n",
        "        the lower bound = prior + likelihood - entropy \n",
        "    \n",
        "    \"\"\"                             \n",
        "    # random sample\n",
        "    x = torch.stack([multivariate_normal(self.mean_x[:,n], self.sigma_x).sample() for n in range(self.N)]).t()\n",
        "    mu = multivariate_normal(self.mean_mu.flatten(), self.sigma_mu).sample()\n",
        "    w = torch.stack([self.__reparameterize(self.mean_w[i,:], self.sigma_w[:,0]) for i in range(self.d)])\n",
        "    alpha = tdist.gamma.Gamma(self.a_alpha_tilde, self.b_alpha_tilde).sample()     \n",
        "    tau = tdist.gamma.Gamma(self.a_tau_tilde, self.b_tau_tilde).sample()\n",
        "\n",
        "    # priors\n",
        "    # p(x) = N(x|0,I_q)\n",
        "    prior = torch.sum(torch.stack([multivariate_normal(torch.zeros(self.q, dtype=torch.float64), \\\n",
        "              torch.eye(self.q, dtype=torch.float64)).log_prob(x[:,i]) for i in range(self.N)]))\n",
        "    # p(w|alpha) = conditional distribution                   \n",
        "    prior += torch.sum(torch.stack([(self.d / 2) * torch.log(alpha[i] / \\\n",
        "              (2 * math.pi)) - 0.5 * alpha[i] * torch.sum(w[:,i]**2) \\\n",
        "              for i in range(self.q)]))                                      \n",
        "    # p(alpha) = Gamma(a, b)                             \n",
        "    prior += torch.sum((tdist.gamma.Gamma(self.a_alpha, self.b_alpha)).log_prob(alpha))                                  \n",
        "    # p(mu) = N(mu|0,Beta^-1I)       \n",
        "    prior += multivariate_normal(torch.zeros(self.d, dtype=torch.float64), torch.eye(self.d, dtype=torch.float64)/self.beta).log_prob(mu) \n",
        "    # p(tau) = Gamma(c, d)      \n",
        "    prior += torch.sum((tdist.gamma.Gamma(self.a_tau, self.b_tau)).log_prob(tau))            \n",
        "    \n",
        "    # log likelihood of the conditional distribution \n",
        "    # p(t_n | x_n, W, mu, tau)\n",
        "    w_x = torch.mm(w, x)\n",
        "    list_t = []\n",
        "    for n in range(self.N):\n",
        "      list_t.append(w_x[:,n] + mu)\n",
        "    likelihood = torch.sum(torch.stack([multivariate_normal(torch.stack(list_t).t()[:,n], \\\n",
        "                  torch.eye(self.d, dtype=torch.float64) / tau).log_prob(self.t_n[:,n]) for n in range(self.N)]))   \n",
        "    \n",
        "    # entropy\n",
        "    # q(x) \n",
        "    entropy = self.N * (0.5 * torch.log((torch.cholesky(self.sigma_x).diag().prod()**2) \\\n",
        "                + (self.d / 2) * (1 + torch.log(torch.DoubleTensor([2 * math.pi])))))   \n",
        "                  \n",
        "    # q(mu)\n",
        "    entropy += 0.5 * torch.log((torch.cholesky(self.sigma_mu).diag().prod()**2) \\\n",
        "                + (self.d / 2) * torch.log(torch.DoubleTensor([2 * math.pi])))\n",
        "                \n",
        "    # q(W)   \n",
        "    entropy += self.d * (0.5 * torch.log((torch.cholesky(self.sigma_w).diag().prod()**2) \\\n",
        "                + (self.d / 2) * torch.log(torch.DoubleTensor([2 * math.pi]))))  \n",
        "                  \n",
        "    # q(alpha)\n",
        "    entropy += self.q * (torch.log(torch.lgamma(torch.DoubleTensor([self.a_alpha_tilde])).exp()) \\\n",
        "                        - (self.a_alpha_tilde - 1) \\\n",
        "                        * torch.digamma(torch.DoubleTensor([self.a_alpha_tilde])) + self.a_alpha_tilde)\n",
        "    for i in range(self.q):\n",
        "      entropy -= torch.log(self.b_alpha_tilde[i])\n",
        "                 \n",
        "    # q(tau)  \n",
        "    entropy += -1*(torch.DoubleTensor([self.a_tau_tilde - 1]) * torch.digamma(torch.DoubleTensor([self.a_tau_tilde])) \\\n",
        "               - torch.log(torch.DoubleTensor([self.b_tau_tilde])) + torch.DoubleTensor([self.a_tau_tilde]))\n",
        "    # will ignore torch.log(torch.lgamma(torch.Tensor([self.a_tau_tilde])).exp()) since = inf\n",
        "\n",
        "    return prior + likelihood - entropy \n",
        "  \n",
        "  def __reparameterize(self, mean, sigma):\n",
        "    eps = torch.randn_like(sigma)\n",
        "    return mean + eps*sigma\n",
        "  \n",
        "  def fit(self, t_n, epochs = 3):\n",
        "    \"\"\"\n",
        "    Fits the data\n",
        "    \n",
        "    Parameters \n",
        "    ----------\n",
        "    t_n : d x N matrix\n",
        "      observed data to be fit\n",
        "      \n",
        "    iterations: int\n",
        "      number of iterations to re-estimate the lower bound\n",
        "    \n",
        "    threshold: float\n",
        "      determines convergence\n",
        "      \n",
        "    \"\"\"\n",
        "    self.t_n = t_n\n",
        "    self.d = self.t_n.shape[0]                     \n",
        "    self.q = self.d - 1\n",
        "    self.N = self.t_n.shape[1]   \n",
        "    \n",
        "    # variational parameters\n",
        "    self.mean_x = torch.randn(self.q, self.N, dtype=torch.float64)\n",
        "    self.sigma_x = torch.eye(self.q, dtype=torch.float64)\n",
        "    self.mean_mu = torch.randn(self.d, 1, dtype=torch.float64)\n",
        "    self.sigma_mu = torch.eye(self.d, dtype=torch.float64)\n",
        "    self.mean_w = torch.randn(self.d, self.q, dtype=torch.float64)\n",
        "    self.sigma_w = torch.eye(self.q, dtype=torch.float64)\n",
        "    self.a_alpha_tilde = self.a_alpha + self.d / 2\n",
        "    self.b_alpha_tilde = torch.abs(torch.randn(self.q, dtype=torch.float64))\n",
        "    self.a_tau_tilde = (self.a_tau + self.N * self.d / 2)\n",
        "    self.b_tau_tilde = torch.abs(torch.randn(1, dtype=torch.float64))\n",
        "    self.mean_w.requires_grad_()\n",
        "    \n",
        "    for epoch in range(epochs):\n",
        "      lr = 0.5\n",
        "      elbo = self.__get_elbo()\n",
        "      loss = -elbo\n",
        "      loss.backward()\n",
        "      with torch.no_grad():\n",
        "        self.mean_w -= self.mean_w.grad * lr\n",
        "        self.mean_w.grad.zero_()"
      ],
      "execution_count": 0,
      "outputs": []
    },
    {
      "cell_type": "code",
      "metadata": {
        "id": "7cjMFyIcNuUk",
        "colab_type": "code",
        "colab": {}
      },
      "source": [
        "import numpy as np \n",
        "import matplotlib.pyplot as plt\n",
        "\n",
        "def hinton(matrix, max_weight=None, ax=None):\n",
        "    \"\"\"\n",
        "    Draw Hinton diagram for visualizing a weight matrix.\n",
        "    From https://matplotlib.org/3.1.1/gallery/specialty_plots/hinton_demo.html\n",
        "    \n",
        "    \"\"\"\n",
        "    ax = ax if ax is not None else plt.gca()\n",
        "\n",
        "    if not max_weight:\n",
        "        max_weight = 2 ** np.ceil(np.log(np.abs(matrix).max()) / np.log(2))\n",
        "\n",
        "    ax.patch.set_facecolor('gray')\n",
        "    ax.set_aspect('equal', 'box')\n",
        "    ax.xaxis.set_major_locator(plt.NullLocator())\n",
        "    ax.yaxis.set_major_locator(plt.NullLocator())\n",
        "\n",
        "    for (x, y), w in np.ndenumerate(matrix):\n",
        "        color = 'white' if w > 0 else 'black'\n",
        "        size = np.sqrt(np.abs(w) / max_weight)\n",
        "        rect = plt.Rectangle([x - size / 2, y - size / 2], size, size,\n",
        "                             facecolor=color, edgecolor=color)\n",
        "        ax.add_patch(rect)\n",
        "\n",
        "    ax.autoscale_view()\n",
        "    ax.invert_yaxis()"
      ],
      "execution_count": 0,
      "outputs": []
    },
    {
      "cell_type": "code",
      "metadata": {
        "id": "TjFWwu5LNzHb",
        "colab_type": "code",
        "outputId": "ff112f97-19cb-4744-c7ac-a01220d91298",
        "colab": {
          "base_uri": "https://localhost:8080/",
          "height": 255
        }
      },
      "source": [
        "\"\"\"\n",
        "We generate 100 data points in d = 10 dimensions from a Gaussian distribution \n",
        "having standard deviations of (5, 4, 3, 2) along four orthogonal directions \n",
        "and a standard deviation of 1 in the remaining five directions\n",
        "\"\"\"\n",
        "m = tdist.multivariate_normal.MultivariateNormal(torch.zeros(10, dtype=torch.float64), torch.diag(torch.DoubleTensor([5,4,3,2,1,1,1,1,1,1])))\n",
        "X = m.sample(sample_shape=torch.Size([100])).t()\n",
        "\n",
        "\"\"\"\n",
        "Hinton diagram of <W> from variational Bayesian PCA \n",
        "\"\"\"\n",
        "test = BayesianPCA()\n",
        "test.fit(X) \n",
        "hinton(test.mean_w.t().detach().numpy())"
      ],
      "execution_count": 165,
      "outputs": [
        {
          "output_type": "display_data",
          "data": {
            "image/png": "[encoded data removed]",
            "text/plain": [
              "<Figure size 432x288 with 1 Axes>"
            ]
          },
          "metadata": {
            "tags": []
          }
        }
      ]
    },
    {
      "cell_type": "code",
      "metadata": {
        "id": "AZKD6zGkdaDd",
        "colab_type": "code",
        "colab": {}
      },
      "source": [
        ""
      ],
      "execution_count": 0,
      "outputs": []
    }
  ]
}