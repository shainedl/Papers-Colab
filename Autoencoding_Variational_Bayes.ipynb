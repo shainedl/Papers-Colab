{
  "nbformat": 4,
  "nbformat_minor": 0,
  "metadata": {
    "colab": {
      "name": "Autoencoding_Variational_Bayes.ipynb",
      "provenance": [],
      "collapsed_sections": [],
      "include_colab_link": true
    },
    "kernelspec": {
      "name": "python3",
      "display_name": "Python 3"
    }
  },
  "cells": [
    {
      "cell_type": "markdown",
      "metadata": {
        "id": "view-in-github",
        "colab_type": "text"
      },
      "source": [
        "<a href=\"https://colab.research.google.com/github/shainedl/Papers-Colab/blob/master/Autoencoding_Variational_Bayes.ipynb\" target=\"_parent\"><img src=\"https://colab.research.google.com/assets/colab-badge.svg\" alt=\"Open In Colab\"/></a>"
      ]
    },
    {
      "cell_type": "markdown",
      "metadata": {
        "id": "XP8kT-JxlTMG",
        "colab_type": "text"
      },
      "source": [
        "Based on *Auto-Encoding Variational Bayes* by Diederick P Kigma and Max Welling (Machine Learning Group, Universiteit van Amsterdam)"
      ]
    },
    {
      "cell_type": "code",
      "metadata": {
        "id": "O_2RvUvdlChL",
        "colab_type": "code",
        "colab": {}
      },
      "source": [
        "import torch\n",
        "from torch import nn, optim\n",
        "import torchvision \n",
        "import torch.nn.functional as F\n",
        "import matplotlib.pyplot as plt"
      ],
      "execution_count": 0,
      "outputs": []
    },
    {
      "cell_type": "code",
      "metadata": {
        "id": "7f_QS2nnlPND",
        "colab_type": "code",
        "colab": {}
      },
      "source": [
        "class VAE(nn.Module):\n",
        "  def __init__(self, input_size, hidden_units, N_z):\n",
        "    super(VAE, self).__init__()\n",
        "    \n",
        "    self.fc1 = nn.Linear(input_size, hidden_units)\n",
        "    self.fc21 = nn.Linear(hidden_units, N_z)\n",
        "    self.fc22 = nn.Linear(hidden_units, N_z)\n",
        "    self.fc3 = nn.Linear(N_z, hidden_units)\n",
        "    self.fc4 = nn.Linear(hidden_units, input_size)\n",
        "    \n",
        "    self.input_size = input_size\n",
        "  \n",
        "  def encode(self, x):\n",
        "    \"\"\"\n",
        "    According to Appendix C.2\n",
        "    \"\"\"\n",
        "    h_e  = torch.tanh(self.fc1(x.view(-1,self.input_size)))\n",
        "    mu = self.fc21(h_e)\n",
        "    logvar = self.fc22(h_e)\n",
        "    \n",
        "    return mu, logvar\n",
        "  \n",
        "  def decode(self, z):\n",
        "    \"\"\"\n",
        "    According to Appendix C.1\n",
        "    \"\"\"\n",
        "    h_d = torch.tanh(self.fc3(z))\n",
        "    \n",
        "    return torch.sigmoid(self.fc4(h_d))\n",
        "  \n",
        "  def forward(self, x):\n",
        "    mu, logvar = self.encode(x)\n",
        "    z = self.__reparameterize(mu, logvar)\n",
        "    \n",
        "    return self.decode(z), mu, logvar\n",
        "  \n",
        "  def __reparameterize(self, mu, logvar):\n",
        "    std = torch.exp(logvar / 2)\n",
        "    eps = torch.randn_like(std)\n",
        "    \n",
        "    return mu + std * eps\n",
        "    "
      ],
      "execution_count": 0,
      "outputs": []
    },
    {
      "cell_type": "code",
      "metadata": {
        "id": "6oI2droyQsv8",
        "colab_type": "code",
        "colab": {}
      },
      "source": [
        "def loss_function(mu, logvar, y, x):\n",
        "  \"\"\"\n",
        "  KL according to Appendix B\n",
        "  \"\"\"\n",
        "  KL = torch.sum(1 + logvar - mu**2 - torch.exp(logvar)) / 2\n",
        "  \n",
        "  RE = F.binary_cross_entropy(y, x.view(-1,784), reduction = 'sum')\n",
        "  \n",
        "  elbo = KL - RE\n",
        "  loss = -1 * elbo\n",
        "  \n",
        "  return loss"
      ],
      "execution_count": 0,
      "outputs": []
    },
    {
      "cell_type": "code",
      "metadata": {
        "id": "MCJfBpMrzwhJ",
        "colab_type": "code",
        "colab": {}
      },
      "source": [
        "def train(num_epochs):\n",
        "  \n",
        "  model.train()\n",
        "  \n",
        "  for epoch in range(num_epochs):\n",
        "    \n",
        "    running_loss = 0.0\n",
        "    for batch_idx, data in enumerate(train_loader):\n",
        "      inputs, labels = data\n",
        "      \n",
        "      # zero the parameter gradients\n",
        "      optimizer.zero_grad()\n",
        "      # forward + backward + optimize\n",
        "      y, mu, logvar = model(inputs)\n",
        "      loss = loss_function(mu, logvar, y, inputs)\n",
        "      loss.backward()\n",
        "      optimizer.step()\n",
        "      \n",
        "      # print statistics\n",
        "      running_loss += loss.item()\n",
        "      if batch_idx % 50 == 49:    # print every 100 mini-batches\n",
        "        print('[%d, %5d] loss: %.3f' % (epoch + 1, batch_idx + 1, running_loss / 100))\n",
        "        running_loss = 0.0\n",
        "            \n",
        "  print('Finished Training')          \n",
        "      "
      ],
      "execution_count": 0,
      "outputs": []
    },
    {
      "cell_type": "code",
      "metadata": {
        "id": "iQyY9Sc9dxxP",
        "colab_type": "code",
        "colab": {
          "base_uri": "https://localhost:8080/",
          "height": 275
        },
        "outputId": "f7cd766f-6e0a-46fc-b51c-011bf4cb75f3"
      },
      "source": [
        "batch_size = 100\n",
        "\"\"\"\n",
        "https://nextjournal.com/gkoehler/pytorch-mnist\n",
        "Remove the normalization to create Bernoulli data\n",
        "\"\"\"\n",
        "train_loader = torch.utils.data.DataLoader(\n",
        "  torchvision.datasets.MNIST('/files/', train=True, download=True,\n",
        "                             transform=torchvision.transforms.Compose([\n",
        "                               torchvision.transforms.ToTensor()\n",
        "                             ])),\n",
        "  batch_size=batch_size, shuffle=True)\n",
        "\n",
        "test_loader = torch.utils.data.DataLoader(\n",
        "  torchvision.datasets.MNIST('/files/', train=False, download=True,\n",
        "                             transform=torchvision.transforms.Compose([\n",
        "                               torchvision.transforms.ToTensor()\n",
        "                             ])),\n",
        "  batch_size=batch_size, shuffle=True)"
      ],
      "execution_count": 6,
      "outputs": [
        {
          "output_type": "stream",
          "text": [
            "\r0it [00:00, ?it/s]"
          ],
          "name": "stderr"
        },
        {
          "output_type": "stream",
          "text": [
            "Downloading http://yann.lecun.com/exdb/mnist/train-images-idx3-ubyte.gz to /files/MNIST/raw/train-images-idx3-ubyte.gz\n"
          ],
          "name": "stdout"
        },
        {
          "output_type": "stream",
          "text": [
            "9920512it [00:02, 4291061.58it/s]                             \n"
          ],
          "name": "stderr"
        },
        {
          "output_type": "stream",
          "text": [
            "Extracting /files/MNIST/raw/train-images-idx3-ubyte.gz to /files/MNIST/raw\n"
          ],
          "name": "stdout"
        },
        {
          "output_type": "stream",
          "text": [
            "\r0it [00:00, ?it/s]"
          ],
          "name": "stderr"
        },
        {
          "output_type": "stream",
          "text": [
            "Downloading http://yann.lecun.com/exdb/mnist/train-labels-idx1-ubyte.gz to /files/MNIST/raw/train-labels-idx1-ubyte.gz\n"
          ],
          "name": "stdout"
        },
        {
          "output_type": "stream",
          "text": [
            "32768it [00:00, 57455.55it/s]                           \n",
            "0it [00:00, ?it/s]"
          ],
          "name": "stderr"
        },
        {
          "output_type": "stream",
          "text": [
            "Extracting /files/MNIST/raw/train-labels-idx1-ubyte.gz to /files/MNIST/raw\n",
            "Downloading http://yann.lecun.com/exdb/mnist/t10k-images-idx3-ubyte.gz to /files/MNIST/raw/t10k-images-idx3-ubyte.gz\n"
          ],
          "name": "stdout"
        },
        {
          "output_type": "stream",
          "text": [
            "1654784it [00:01, 969717.43it/s]                             \n",
            "0it [00:00, ?it/s]"
          ],
          "name": "stderr"
        },
        {
          "output_type": "stream",
          "text": [
            "Extracting /files/MNIST/raw/t10k-images-idx3-ubyte.gz to /files/MNIST/raw\n",
            "Downloading http://yann.lecun.com/exdb/mnist/t10k-labels-idx1-ubyte.gz to /files/MNIST/raw/t10k-labels-idx1-ubyte.gz\n"
          ],
          "name": "stdout"
        },
        {
          "output_type": "stream",
          "text": [
            "8192it [00:00, 21767.07it/s]            "
          ],
          "name": "stderr"
        },
        {
          "output_type": "stream",
          "text": [
            "Extracting /files/MNIST/raw/t10k-labels-idx1-ubyte.gz to /files/MNIST/raw\n",
            "Processing...\n",
            "Done!\n"
          ],
          "name": "stdout"
        },
        {
          "output_type": "stream",
          "text": [
            "\n"
          ],
          "name": "stderr"
        }
      ]
    },
    {
      "cell_type": "code",
      "metadata": {
        "id": "nhNEp6PSwD-0",
        "colab_type": "code",
        "colab": {
          "base_uri": "https://localhost:8080/",
          "height": 34
        },
        "outputId": "b881d59d-f99d-4a22-890e-352a2e31d8b6"
      },
      "source": [
        "len(train_loader)"
      ],
      "execution_count": 25,
      "outputs": [
        {
          "output_type": "execute_result",
          "data": {
            "text/plain": [
              "600"
            ]
          },
          "metadata": {
            "tags": []
          },
          "execution_count": 25
        }
      ]
    },
    {
      "cell_type": "code",
      "metadata": {
        "colab_type": "code",
        "id": "cbQc8lZ76kiJ",
        "colab": {}
      },
      "source": [
        "examples = enumerate(train_loader)\n",
        "batch_idx, (example_data, example_targets) = next(examples)"
      ],
      "execution_count": 0,
      "outputs": []
    },
    {
      "cell_type": "code",
      "metadata": {
        "id": "CNhkkGqH6mE3",
        "colab_type": "code",
        "colab": {
          "base_uri": "https://localhost:8080/",
          "height": 34
        },
        "outputId": "dc8995d0-61aa-4d31-a5a1-3a62abbc4e9f"
      },
      "source": [
        "example_data[0].size()"
      ],
      "execution_count": 8,
      "outputs": [
        {
          "output_type": "execute_result",
          "data": {
            "text/plain": [
              "torch.Size([1, 28, 28])"
            ]
          },
          "metadata": {
            "tags": []
          },
          "execution_count": 8
        }
      ]
    },
    {
      "cell_type": "code",
      "metadata": {
        "id": "2L95RklBI3Ed",
        "colab_type": "code",
        "colab": {
          "base_uri": "https://localhost:8080/",
          "height": 282
        },
        "outputId": "8ac45b91-855c-49ae-d67f-367a2b86fbb7"
      },
      "source": [
        "plt.imshow(example_data[0].view(28,28).detach().numpy())"
      ],
      "execution_count": 13,
      "outputs": [
        {
          "output_type": "execute_result",
          "data": {
            "text/plain": [
              "<matplotlib.image.AxesImage at 0x7f4f5d2549e8>"
            ]
          },
          "metadata": {
            "tags": []
          },
          "execution_count": 13
        },
        {
          "output_type": "display_data",
          "data": {
            "image/png": "[encoded data removed]",
            "text/plain": [
              "<Figure size 432x288 with 1 Axes>"
            ]
          },
          "metadata": {
            "tags": []
          }
        }
      ]
    },
    {
      "cell_type": "code",
      "metadata": {
        "id": "W_H3B7YF3zkR",
        "colab_type": "code",
        "colab": {
          "base_uri": "https://localhost:8080/",
          "height": 1000
        },
        "outputId": "e93ba1a8-f6e0-42c1-cb1c-d5978d394894"
      },
      "source": [
        "# input_size = 28 * 28 = 784\n",
        "model = VAE(784, 500, 20)\n",
        "optimizer = optim.Adagrad(model.parameters(), lr=1e-2)\n",
        "train(20)"
      ],
      "execution_count": 30,
      "outputs": [
        {
          "output_type": "stream",
          "text": [
            "[1,    50] loss: 11679.886\n",
            "[1,   100] loss: 8774.000\n",
            "[1,   150] loss: 8238.921\n",
            "[1,   200] loss: 7801.225\n",
            "[1,   250] loss: 7502.126\n",
            "[1,   300] loss: 7369.001\n",
            "[1,   350] loss: 7210.099\n",
            "[1,   400] loss: 7031.858\n",
            "[1,   450] loss: 6965.552\n",
            "[1,   500] loss: 6805.167\n",
            "[1,   550] loss: 6836.304\n",
            "[1,   600] loss: 6731.856\n",
            "[2,    50] loss: 6676.394\n",
            "[2,   100] loss: 6530.904\n",
            "[2,   150] loss: 6596.901\n",
            "[2,   200] loss: 6516.667\n",
            "[2,   250] loss: 6514.283\n",
            "[2,   300] loss: 6481.487\n",
            "[2,   350] loss: 6479.088\n",
            "[2,   400] loss: 6441.995\n",
            "[2,   450] loss: 6408.730\n",
            "[2,   500] loss: 6398.353\n",
            "[2,   550] loss: 6379.744\n",
            "[2,   600] loss: 6350.053\n",
            "[3,    50] loss: 6321.709\n",
            "[3,   100] loss: 6303.748\n",
            "[3,   150] loss: 6358.791\n",
            "[3,   200] loss: 6308.154\n",
            "[3,   250] loss: 6354.762\n",
            "[3,   300] loss: 6300.133\n",
            "[3,   350] loss: 6280.761\n",
            "[3,   400] loss: 6292.411\n",
            "[3,   450] loss: 6253.002\n",
            "[3,   500] loss: 6261.211\n",
            "[3,   550] loss: 6254.182\n",
            "[3,   600] loss: 6239.087\n",
            "[4,    50] loss: 6243.707\n",
            "[4,   100] loss: 6240.882\n",
            "[4,   150] loss: 6198.410\n",
            "[4,   200] loss: 6224.991\n",
            "[4,   250] loss: 6200.015\n",
            "[4,   300] loss: 6217.509\n",
            "[4,   350] loss: 6157.385\n",
            "[4,   400] loss: 6244.025\n",
            "[4,   450] loss: 6205.009\n",
            "[4,   500] loss: 6135.482\n",
            "[4,   550] loss: 6158.265\n",
            "[4,   600] loss: 6199.931\n",
            "[5,    50] loss: 6164.997\n",
            "[5,   100] loss: 6185.414\n",
            "[5,   150] loss: 6133.421\n",
            "[5,   200] loss: 6135.201\n",
            "[5,   250] loss: 6160.789\n",
            "[5,   300] loss: 6128.696\n",
            "[5,   350] loss: 6102.391\n",
            "[5,   400] loss: 6137.871\n",
            "[5,   450] loss: 6109.537\n",
            "[5,   500] loss: 6136.306\n",
            "[5,   550] loss: 6106.106\n",
            "[5,   600] loss: 6112.897\n",
            "[6,    50] loss: 6091.752\n",
            "[6,   100] loss: 6080.740\n",
            "[6,   150] loss: 6095.683\n",
            "[6,   200] loss: 6077.816\n",
            "[6,   250] loss: 6113.240\n",
            "[6,   300] loss: 6097.615\n",
            "[6,   350] loss: 6060.571\n",
            "[6,   400] loss: 6069.292\n",
            "[6,   450] loss: 6077.470\n",
            "[6,   500] loss: 6064.472\n",
            "[6,   550] loss: 6073.465\n",
            "[6,   600] loss: 6067.499\n",
            "[7,    50] loss: 6049.976\n",
            "[7,   100] loss: 6073.502\n",
            "[7,   150] loss: 6076.685\n",
            "[7,   200] loss: 6011.881\n",
            "[7,   250] loss: 6062.511\n",
            "[7,   300] loss: 6037.104\n",
            "[7,   350] loss: 6047.818\n",
            "[7,   400] loss: 6018.739\n",
            "[7,   450] loss: 5989.286\n",
            "[7,   500] loss: 6038.856\n",
            "[7,   550] loss: 6013.179\n",
            "[7,   600] loss: 6023.298\n",
            "[8,    50] loss: 5997.294\n",
            "[8,   100] loss: 6027.038\n",
            "[8,   150] loss: 6037.457\n",
            "[8,   200] loss: 5995.219\n",
            "[8,   250] loss: 6018.563\n",
            "[8,   300] loss: 5965.927\n",
            "[8,   350] loss: 5985.470\n",
            "[8,   400] loss: 5996.279\n",
            "[8,   450] loss: 6002.647\n",
            "[8,   500] loss: 5996.959\n",
            "[8,   550] loss: 5963.931\n",
            "[8,   600] loss: 5991.038\n",
            "[9,    50] loss: 5958.317\n",
            "[9,   100] loss: 6000.926\n",
            "[9,   150] loss: 5950.284\n",
            "[9,   200] loss: 5942.508\n",
            "[9,   250] loss: 5973.356\n",
            "[9,   300] loss: 5959.072\n",
            "[9,   350] loss: 5985.667\n",
            "[9,   400] loss: 5936.727\n",
            "[9,   450] loss: 5950.895\n",
            "[9,   500] loss: 5983.954\n",
            "[9,   550] loss: 5924.991\n",
            "[9,   600] loss: 5974.353\n",
            "[10,    50] loss: 5967.504\n",
            "[10,   100] loss: 5934.858\n",
            "[10,   150] loss: 5938.072\n",
            "[10,   200] loss: 5917.783\n",
            "[10,   250] loss: 5932.431\n",
            "[10,   300] loss: 5926.959\n",
            "[10,   350] loss: 5929.744\n",
            "[10,   400] loss: 5890.556\n",
            "[10,   450] loss: 5932.469\n",
            "[10,   500] loss: 5917.890\n",
            "[10,   550] loss: 5958.618\n",
            "[10,   600] loss: 5918.292\n",
            "[11,    50] loss: 5932.516\n",
            "[11,   100] loss: 5924.730\n",
            "[11,   150] loss: 5914.918\n",
            "[11,   200] loss: 5872.760\n",
            "[11,   250] loss: 5888.073\n",
            "[11,   300] loss: 5911.481\n",
            "[11,   350] loss: 5860.968\n",
            "[11,   400] loss: 5871.908\n",
            "[11,   450] loss: 5906.969\n",
            "[11,   500] loss: 5884.514\n",
            "[11,   550] loss: 5913.827\n",
            "[11,   600] loss: 5912.179\n",
            "[12,    50] loss: 5856.632\n",
            "[12,   100] loss: 5883.519\n",
            "[12,   150] loss: 5850.638\n",
            "[12,   200] loss: 5896.860\n",
            "[12,   250] loss: 5864.490\n",
            "[12,   300] loss: 5867.571\n",
            "[12,   350] loss: 5892.325\n",
            "[12,   400] loss: 5866.382\n",
            "[12,   450] loss: 5884.742\n",
            "[12,   500] loss: 5843.768\n",
            "[12,   550] loss: 5857.729\n",
            "[12,   600] loss: 5890.326\n",
            "[13,    50] loss: 5863.765\n",
            "[13,   100] loss: 5869.295\n",
            "[13,   150] loss: 5820.746\n",
            "[13,   200] loss: 5869.305\n",
            "[13,   250] loss: 5847.415\n",
            "[13,   300] loss: 5843.198\n",
            "[13,   350] loss: 5813.474\n",
            "[13,   400] loss: 5874.259\n",
            "[13,   450] loss: 5830.429\n",
            "[13,   500] loss: 5824.983\n",
            "[13,   550] loss: 5868.591\n",
            "[13,   600] loss: 5829.499\n",
            "[14,    50] loss: 5836.668\n",
            "[14,   100] loss: 5854.913\n",
            "[14,   150] loss: 5815.556\n",
            "[14,   200] loss: 5848.042\n",
            "[14,   250] loss: 5880.410\n",
            "[14,   300] loss: 5828.930\n",
            "[14,   350] loss: 5796.233\n",
            "[14,   400] loss: 5816.181\n",
            "[14,   450] loss: 5801.629\n",
            "[14,   500] loss: 5796.088\n",
            "[14,   550] loss: 5799.730\n",
            "[14,   600] loss: 5782.002\n",
            "[15,    50] loss: 5814.110\n",
            "[15,   100] loss: 5789.592\n",
            "[15,   150] loss: 5792.726\n",
            "[15,   200] loss: 5796.671\n",
            "[15,   250] loss: 5788.645\n",
            "[15,   300] loss: 5821.017\n",
            "[15,   350] loss: 5827.583\n",
            "[15,   400] loss: 5788.983\n",
            "[15,   450] loss: 5794.159\n",
            "[15,   500] loss: 5796.234\n",
            "[15,   550] loss: 5766.989\n",
            "[15,   600] loss: 5798.367\n",
            "[16,    50] loss: 5853.584\n",
            "[16,   100] loss: 5775.632\n",
            "[16,   150] loss: 5777.081\n",
            "[16,   200] loss: 5773.555\n",
            "[16,   250] loss: 5762.569\n",
            "[16,   300] loss: 5780.734\n",
            "[16,   350] loss: 5759.487\n",
            "[16,   400] loss: 5802.253\n",
            "[16,   450] loss: 5761.502\n",
            "[16,   500] loss: 5766.267\n",
            "[16,   550] loss: 5777.295\n",
            "[16,   600] loss: 5736.025\n",
            "[17,    50] loss: 5769.612\n",
            "[17,   100] loss: 5745.056\n",
            "[17,   150] loss: 5762.250\n",
            "[17,   200] loss: 5749.980\n",
            "[17,   250] loss: 5791.525\n",
            "[17,   300] loss: 5737.889\n",
            "[17,   350] loss: 5784.519\n",
            "[17,   400] loss: 5731.322\n",
            "[17,   450] loss: 5750.554\n",
            "[17,   500] loss: 5750.847\n",
            "[17,   550] loss: 5747.757\n",
            "[17,   600] loss: 5743.063\n",
            "[18,    50] loss: 5755.639\n",
            "[18,   100] loss: 5718.438\n",
            "[18,   150] loss: 5750.674\n",
            "[18,   200] loss: 5726.734\n",
            "[18,   250] loss: 5748.798\n",
            "[18,   300] loss: 5733.076\n",
            "[18,   350] loss: 5739.052\n",
            "[18,   400] loss: 5743.187\n",
            "[18,   450] loss: 5736.462\n",
            "[18,   500] loss: 5715.720\n",
            "[18,   550] loss: 5738.545\n",
            "[18,   600] loss: 5739.954\n",
            "[19,    50] loss: 5738.669\n",
            "[19,   100] loss: 5704.619\n",
            "[19,   150] loss: 5703.343\n",
            "[19,   200] loss: 5683.752\n",
            "[19,   250] loss: 5720.828\n",
            "[19,   300] loss: 5743.558\n",
            "[19,   350] loss: 5744.036\n",
            "[19,   400] loss: 5712.014\n",
            "[19,   450] loss: 5700.735\n",
            "[19,   500] loss: 5737.055\n",
            "[19,   550] loss: 5721.248\n",
            "[19,   600] loss: 5717.753\n",
            "[20,    50] loss: 5686.166\n",
            "[20,   100] loss: 5717.854\n",
            "[20,   150] loss: 5712.419\n",
            "[20,   200] loss: 5698.906\n",
            "[20,   250] loss: 5707.538\n",
            "[20,   300] loss: 5713.340\n",
            "[20,   350] loss: 5695.337\n",
            "[20,   400] loss: 5686.481\n",
            "[20,   450] loss: 5705.185\n",
            "[20,   500] loss: 5725.233\n",
            "[20,   550] loss: 5697.871\n",
            "[20,   600] loss: 5665.803\n",
            "Finished Training\n"
          ],
          "name": "stdout"
        }
      ]
    },
    {
      "cell_type": "code",
      "metadata": {
        "id": "RGztHz_V7mu3",
        "colab_type": "code",
        "colab": {}
      },
      "source": [
        "sample = torch.randn(1, 20)\n",
        "sample = model.decode(sample)"
      ],
      "execution_count": 0,
      "outputs": []
    },
    {
      "cell_type": "code",
      "metadata": {
        "id": "Rqc-d-gCH52B",
        "colab_type": "code",
        "colab": {
          "base_uri": "https://localhost:8080/",
          "height": 282
        },
        "outputId": "240a8a8d-43ff-4634-ad51-f0e9fd41af76"
      },
      "source": [
        "import matplotlib.pyplot as plt\n",
        "plt.imshow(sample.view(28,28).detach().numpy())"
      ],
      "execution_count": 35,
      "outputs": [
        {
          "output_type": "execute_result",
          "data": {
            "text/plain": [
              "<matplotlib.image.AxesImage at 0x7f4f5cc7ccf8>"
            ]
          },
          "metadata": {
            "tags": []
          },
          "execution_count": 35
        },
        {
          "output_type": "display_data",
          "data": {
            "image/png": "[encoded data removed]",
            "text/plain": [
              "<Figure size 432x288 with 1 Axes>"
            ]
          },
          "metadata": {
            "tags": []
          }
        }
      ]
    },
    {
      "cell_type": "code",
      "metadata": {
        "id": "kLJLwZy_H6jG",
        "colab_type": "code",
        "colab": {}
      },
      "source": [
        ""
      ],
      "execution_count": 0,
      "outputs": []
    }
  ]
}