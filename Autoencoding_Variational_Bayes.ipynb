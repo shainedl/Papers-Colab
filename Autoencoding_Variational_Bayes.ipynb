{
  "nbformat": 4,
  "nbformat_minor": 0,
  "metadata": {
    "colab": {
      "name": "Autoencoding_Variational_Bayes.ipynb",
      "provenance": [],
      "collapsed_sections": [],
      "include_colab_link": true
    },
    "kernelspec": {
      "name": "python3",
      "display_name": "Python 3"
    }
  },
  "cells": [
    {
      "cell_type": "markdown",
      "metadata": {
        "id": "view-in-github",
        "colab_type": "text"
      },
      "source": [
        "<a href=\"https://colab.research.google.com/github/shainedl/Papers-Colab/blob/master/Autoencoding_Variational_Bayes.ipynb\" target=\"_parent\"><img src=\"https://colab.research.google.com/assets/colab-badge.svg\" alt=\"Open In Colab\"/></a>"
      ]
    },
    {
      "cell_type": "markdown",
      "metadata": {
        "id": "XP8kT-JxlTMG",
        "colab_type": "text"
      },
      "source": [
        "Based on *Auto-Encoding Variational Bayes* by Diederick P Kigma and Max Welling (Machine Learning Group, Universiteit van Amsterdam)"
      ]
    },
    {
      "cell_type": "code",
      "metadata": {
        "id": "O_2RvUvdlChL",
        "colab_type": "code",
        "colab": {}
      },
      "source": [
        "import torch\n",
        "from torch import nn, optim\n",
        "import torchvision \n",
        "import torch.nn.functional as F\n",
        "import matplotlib.pyplot as plt"
      ],
      "execution_count": 0,
      "outputs": []
    },
    {
      "cell_type": "code",
      "metadata": {
        "id": "7f_QS2nnlPND",
        "colab_type": "code",
        "colab": {}
      },
      "source": [
        "class VAE(nn.Module):\n",
        "  def __init__(self, input_size, hidden_units, N_z):\n",
        "    super(VAE, self).__init__()\n",
        "    \n",
        "    self.fc1 = nn.Linear(input_size, hidden_units)\n",
        "    self.fc21 = nn.Linear(hidden_units, N_z)\n",
        "    self.fc22 = nn.Linear(hidden_units, N_z)\n",
        "    self.fc3 = nn.Linear(N_z, hidden_units)\n",
        "    self.fc4 = nn.Linear(hidden_units, input_size)\n",
        "    \n",
        "    self.input_size = input_size\n",
        "  \n",
        "  def encode(self, x):\n",
        "    \"\"\"\n",
        "    Produces a Gaussian distribution over the possible values of the code z \n",
        "    from which x could have been generated\n",
        "    According to Appendix C.2\n",
        "    \n",
        "    Parameters\n",
        "    ----------\n",
        "      x: batch size x input size (after reshape) Tensor\n",
        "        observed data\n",
        "    \n",
        "    Returns\n",
        "    -------\n",
        "      mu: batch size x N_z (z dimensions) Tensor\n",
        "        mean of Gaussian distribution\n",
        "        \n",
        "      logvar: batch size x N_z (z dimensions) Tensor \n",
        "        log of variance of Gaussian distribution\n",
        "    \"\"\"\n",
        "    h_e  = torch.tanh(self.fc1(x.view(-1,self.input_size)))\n",
        "    mu = self.fc21(h_e)\n",
        "    logvar = self.fc22(h_e)\n",
        "    \n",
        "    return mu, logvar\n",
        "  \n",
        "  def decode(self, z):\n",
        "    \"\"\"\n",
        "    Given a code z it produces a Bernoulli distribution over the possible\n",
        "    corresponding values of x\n",
        "    According to Appendix C.1\n",
        "    \n",
        "    Parameters\n",
        "    ----------\n",
        "      z: batch size x N_z (z dimensions) Tensor\n",
        "        latent variables\n",
        "      \n",
        "    Returns\n",
        "    -------\n",
        "      batch size x input size Tensor\n",
        "        reconstructed x\n",
        "    \"\"\"\n",
        "    h_d = torch.tanh(self.fc3(z))\n",
        "    \n",
        "    return torch.sigmoid(self.fc4(h_d))\n",
        "  \n",
        "  def forward(self, x):\n",
        "    \"\"\"\n",
        "    Forward pass of the model \n",
        "    \"\"\"\n",
        "    mu, logvar = self.encode(x)\n",
        "    z = self.__reparameterize(mu, logvar)\n",
        "    \n",
        "    return self.decode(z), mu, logvar\n",
        "  \n",
        "  def __reparameterize(self, mu, logvar):\n",
        "    \"\"\"\n",
        "    Reparameterize the random variable z to express as a deterministic variable\n",
        "    \"\"\"\n",
        "    std = torch.exp(logvar / 2)\n",
        "    eps = torch.randn_like(std)\n",
        "    \n",
        "    return mu + std * eps\n",
        "    "
      ],
      "execution_count": 0,
      "outputs": []
    },
    {
      "cell_type": "code",
      "metadata": {
        "id": "6oI2droyQsv8",
        "colab_type": "code",
        "colab": {}
      },
      "source": [
        "def loss_function(mu, logvar, y, x):\n",
        "  \"\"\"\n",
        "  KL according to Appendix B\n",
        "  \"\"\"\n",
        "  KL = torch.sum(1 + logvar - mu**2 - torch.exp(logvar)) / 2\n",
        "  \n",
        "  RE = F.binary_cross_entropy(y, x.view(-1,784), reduction = 'sum')\n",
        "  \n",
        "  elbo = KL - RE\n",
        "  loss = -1 * elbo\n",
        "  \n",
        "  return loss"
      ],
      "execution_count": 0,
      "outputs": []
    },
    {
      "cell_type": "code",
      "metadata": {
        "id": "MCJfBpMrzwhJ",
        "colab_type": "code",
        "colab": {}
      },
      "source": [
        "def train(epoch):\n",
        "  \n",
        "  model.train()\n",
        "  \n",
        "  running_loss = 0.0\n",
        "  for batch_idx, data in enumerate(train_loader):\n",
        "    inputs, labels = data\n",
        "\n",
        "    # zero the parameter gradients\n",
        "    optimizer.zero_grad()\n",
        "    # forward + backward + optimize\n",
        "    y, mu, logvar = model(inputs)\n",
        "    loss = loss_function(mu, logvar, y, inputs)\n",
        "    loss.backward()\n",
        "    optimizer.step()\n",
        "\n",
        "    # print statistics\n",
        "    running_loss += loss.item()\n",
        "    if batch_idx % 100 == 99:    # print every 100 mini-batches\n",
        "      print('[%d, %5d] Train loss: %.3f' % (epoch + 1, batch_idx + 1, running_loss / 100))\n",
        "      running_loss = 0.0      "
      ],
      "execution_count": 0,
      "outputs": []
    },
    {
      "cell_type": "code",
      "metadata": {
        "id": "EeoN3eGt9bA0",
        "colab_type": "code",
        "colab": {}
      },
      "source": [
        "def test(epoch):\n",
        "  \n",
        "  model.eval()\n",
        "  \n",
        "  running_loss = 0.0\n",
        "  for batch_idx, data in enumerate(test_loader):\n",
        "    inputs, labels = data\n",
        "\n",
        "    y, mu, logvar = model(inputs)\n",
        "    running_loss += loss_function(mu, logvar, y, inputs).item()\n",
        "\n",
        "  print('[%d, %5d] Test loss: %.3f' % (epoch + 1, batch_idx + 1, running_loss / 100))"
      ],
      "execution_count": 0,
      "outputs": []
    },
    {
      "cell_type": "code",
      "metadata": {
        "id": "iQyY9Sc9dxxP",
        "colab_type": "code",
        "colab": {
          "base_uri": "https://localhost:8080/",
          "height": 285
        },
        "outputId": "f7cd766f-6e0a-46fc-b51c-011bf4cb75f3"
      },
      "source": [
        "batch_size = 100\n",
        "\"\"\"\n",
        "https://nextjournal.com/gkoehler/pytorch-mnist\n",
        "Remove the normalization to create Bernoulli data\n",
        "\"\"\"\n",
        "train_loader = torch.utils.data.DataLoader(\n",
        "  torchvision.datasets.MNIST('/files/', train=True, download=True,\n",
        "                             transform=torchvision.transforms.Compose([\n",
        "                               torchvision.transforms.ToTensor()\n",
        "                             ])),\n",
        "  batch_size=batch_size, shuffle=True)\n",
        "\n",
        "test_loader = torch.utils.data.DataLoader(\n",
        "  torchvision.datasets.MNIST('/files/', train=False, download=True,\n",
        "                             transform=torchvision.transforms.Compose([\n",
        "                               torchvision.transforms.ToTensor()\n",
        "                             ])),\n",
        "  batch_size=batch_size, shuffle=True)"
      ],
      "execution_count": 6,
      "outputs": [
        {
          "output_type": "stream",
          "text": [
            "\r0it [00:00, ?it/s]"
          ],
          "name": "stderr"
        },
        {
          "output_type": "stream",
          "text": [
            "Downloading http://yann.lecun.com/exdb/mnist/train-images-idx3-ubyte.gz to /files/MNIST/raw/train-images-idx3-ubyte.gz\n"
          ],
          "name": "stdout"
        },
        {
          "output_type": "stream",
          "text": [
            "9920512it [00:02, 4291061.58it/s]                             \n"
          ],
          "name": "stderr"
        },
        {
          "output_type": "stream",
          "text": [
            "Extracting /files/MNIST/raw/train-images-idx3-ubyte.gz to /files/MNIST/raw\n"
          ],
          "name": "stdout"
        },
        {
          "output_type": "stream",
          "text": [
            "\r0it [00:00, ?it/s]"
          ],
          "name": "stderr"
        },
        {
          "output_type": "stream",
          "text": [
            "Downloading http://yann.lecun.com/exdb/mnist/train-labels-idx1-ubyte.gz to /files/MNIST/raw/train-labels-idx1-ubyte.gz\n"
          ],
          "name": "stdout"
        },
        {
          "output_type": "stream",
          "text": [
            "32768it [00:00, 57455.55it/s]                           \n",
            "0it [00:00, ?it/s]"
          ],
          "name": "stderr"
        },
        {
          "output_type": "stream",
          "text": [
            "Extracting /files/MNIST/raw/train-labels-idx1-ubyte.gz to /files/MNIST/raw\n",
            "Downloading http://yann.lecun.com/exdb/mnist/t10k-images-idx3-ubyte.gz to /files/MNIST/raw/t10k-images-idx3-ubyte.gz\n"
          ],
          "name": "stdout"
        },
        {
          "output_type": "stream",
          "text": [
            "1654784it [00:01, 969717.43it/s]                             \n",
            "0it [00:00, ?it/s]"
          ],
          "name": "stderr"
        },
        {
          "output_type": "stream",
          "text": [
            "Extracting /files/MNIST/raw/t10k-images-idx3-ubyte.gz to /files/MNIST/raw\n",
            "Downloading http://yann.lecun.com/exdb/mnist/t10k-labels-idx1-ubyte.gz to /files/MNIST/raw/t10k-labels-idx1-ubyte.gz\n"
          ],
          "name": "stdout"
        },
        {
          "output_type": "stream",
          "text": [
            "8192it [00:00, 21767.07it/s]            "
          ],
          "name": "stderr"
        },
        {
          "output_type": "stream",
          "text": [
            "Extracting /files/MNIST/raw/t10k-labels-idx1-ubyte.gz to /files/MNIST/raw\n",
            "Processing...\n",
            "Done!\n"
          ],
          "name": "stdout"
        },
        {
          "output_type": "stream",
          "text": [
            "\n"
          ],
          "name": "stderr"
        }
      ]
    },
    {
      "cell_type": "code",
      "metadata": {
        "id": "nhNEp6PSwD-0",
        "colab_type": "code",
        "colab": {
          "base_uri": "https://localhost:8080/",
          "height": 34
        },
        "outputId": "b881d59d-f99d-4a22-890e-352a2e31d8b6"
      },
      "source": [
        "len(train_loader)"
      ],
      "execution_count": 25,
      "outputs": [
        {
          "output_type": "execute_result",
          "data": {
            "text/plain": [
              "600"
            ]
          },
          "metadata": {
            "tags": []
          },
          "execution_count": 25
        }
      ]
    },
    {
      "cell_type": "code",
      "metadata": {
        "colab_type": "code",
        "id": "cbQc8lZ76kiJ",
        "colab": {}
      },
      "source": [
        "examples = enumerate(train_loader)\n",
        "batch_idx, (example_data, example_targets) = next(examples)"
      ],
      "execution_count": 0,
      "outputs": []
    },
    {
      "cell_type": "code",
      "metadata": {
        "id": "CNhkkGqH6mE3",
        "colab_type": "code",
        "colab": {
          "base_uri": "https://localhost:8080/",
          "height": 34
        },
        "outputId": "dc8995d0-61aa-4d31-a5a1-3a62abbc4e9f"
      },
      "source": [
        "example_data[0].size()"
      ],
      "execution_count": 8,
      "outputs": [
        {
          "output_type": "execute_result",
          "data": {
            "text/plain": [
              "torch.Size([1, 28, 28])"
            ]
          },
          "metadata": {
            "tags": []
          },
          "execution_count": 8
        }
      ]
    },
    {
      "cell_type": "code",
      "metadata": {
        "id": "2L95RklBI3Ed",
        "colab_type": "code",
        "colab": {
          "base_uri": "https://localhost:8080/",
          "height": 282
        },
        "outputId": "8ac45b91-855c-49ae-d67f-367a2b86fbb7"
      },
      "source": [
        "plt.imshow(example_data[0].view(28,28).detach().numpy())"
      ],
      "execution_count": 13,
      "outputs": [
        {
          "output_type": "execute_result",
          "data": {
            "text/plain": [
              "<matplotlib.image.AxesImage at 0x7f4f5d2549e8>"
            ]
          },
          "metadata": {
            "tags": []
          },
          "execution_count": 13
        },
        {
          "output_type": "display_data",
          "data": {
            "image/png": "[encoded data removed]",
            "text/plain": [
              "<Figure size 432x288 with 1 Axes>"
            ]
          },
          "metadata": {
            "tags": []
          }
        }
      ]
    },
    {
      "cell_type": "code",
      "metadata": {
        "id": "W_H3B7YF3zkR",
        "colab_type": "code",
        "colab": {
          "base_uri": "https://localhost:8080/",
          "height": 1000
        },
        "outputId": "16eb09ad-c097-4657-d936-8718e7ed1f35"
      },
      "source": [
        "# input_size = 28 * 28 = 784\n",
        "model = VAE(784, 500, 20)\n",
        "optimizer = optim.Adagrad(model.parameters(), lr=1e-2)\n",
        "\n",
        "num_epochs = 20\n",
        "for epoch in range(num_epochs):\n",
        "  train(epoch)\n",
        "  test(epoch)"
      ],
      "execution_count": 81,
      "outputs": [
        {
          "output_type": "stream",
          "text": [
            "[1,   100] Train loss: 20986.326\n",
            "[1,   200] Train loss: 16105.736\n",
            "[1,   300] Train loss: 15070.960\n",
            "[1,   400] Train loss: 14477.962\n",
            "[1,   500] Train loss: 14030.065\n",
            "[1,   600] Train loss: 13689.535\n",
            "[1,   100] Test loss: 13393.386\n",
            "[2,   100] Train loss: 13421.904\n",
            "[2,   200] Train loss: 13290.443\n",
            "[2,   300] Train loss: 13054.070\n",
            "[2,   400] Train loss: 13033.963\n",
            "[2,   500] Train loss: 12879.618\n",
            "[2,   600] Train loss: 12742.299\n",
            "[2,   100] Test loss: 12656.682\n",
            "[3,   100] Train loss: 12762.029\n",
            "[3,   200] Train loss: 12716.090\n",
            "[3,   300] Train loss: 12661.805\n",
            "[3,   400] Train loss: 12595.447\n",
            "[3,   500] Train loss: 12559.858\n",
            "[3,   600] Train loss: 12556.954\n",
            "[3,   100] Test loss: 12395.341\n",
            "[4,   100] Train loss: 12538.357\n",
            "[4,   200] Train loss: 12453.994\n",
            "[4,   300] Train loss: 12406.548\n",
            "[4,   400] Train loss: 12434.434\n",
            "[4,   500] Train loss: 12423.593\n",
            "[4,   600] Train loss: 12450.919\n",
            "[4,   100] Test loss: 12265.799\n",
            "[5,   100] Train loss: 12386.373\n",
            "[5,   200] Train loss: 12313.010\n",
            "[5,   300] Train loss: 12285.700\n",
            "[5,   400] Train loss: 12262.037\n",
            "[5,   500] Train loss: 12289.667\n",
            "[5,   600] Train loss: 12321.609\n",
            "[5,   100] Test loss: 12140.807\n",
            "[6,   100] Train loss: 12248.786\n",
            "[6,   200] Train loss: 12176.686\n",
            "[6,   300] Train loss: 12249.062\n",
            "[6,   400] Train loss: 12222.997\n",
            "[6,   500] Train loss: 12169.439\n",
            "[6,   600] Train loss: 12132.332\n",
            "[6,   100] Test loss: 12036.154\n",
            "[7,   100] Train loss: 12161.298\n",
            "[7,   200] Train loss: 12117.327\n",
            "[7,   300] Train loss: 12103.301\n",
            "[7,   400] Train loss: 12062.363\n",
            "[7,   500] Train loss: 12097.358\n",
            "[7,   600] Train loss: 12065.308\n",
            "[7,   100] Test loss: 11947.842\n",
            "[8,   100] Train loss: 12067.657\n",
            "[8,   200] Train loss: 12063.980\n",
            "[8,   300] Train loss: 11965.753\n",
            "[8,   400] Train loss: 12013.599\n",
            "[8,   500] Train loss: 11997.757\n",
            "[8,   600] Train loss: 12014.675\n",
            "[8,   100] Test loss: 11875.542\n",
            "[9,   100] Train loss: 11974.300\n",
            "[9,   200] Train loss: 11938.069\n",
            "[9,   300] Train loss: 11953.380\n",
            "[9,   400] Train loss: 11983.840\n",
            "[9,   500] Train loss: 11916.324\n",
            "[9,   600] Train loss: 11941.974\n",
            "[9,   100] Test loss: 11808.227\n",
            "[10,   100] Train loss: 11883.447\n",
            "[10,   200] Train loss: 11906.097\n",
            "[10,   300] Train loss: 11912.823\n",
            "[10,   400] Train loss: 11873.909\n",
            "[10,   500] Train loss: 11908.955\n",
            "[10,   600] Train loss: 11838.957\n",
            "[10,   100] Test loss: 11748.378\n",
            "[11,   100] Train loss: 11840.750\n",
            "[11,   200] Train loss: 11852.375\n",
            "[11,   300] Train loss: 11844.158\n",
            "[11,   400] Train loss: 11847.509\n",
            "[11,   500] Train loss: 11787.761\n",
            "[11,   600] Train loss: 11787.373\n",
            "[11,   100] Test loss: 11696.841\n",
            "[12,   100] Train loss: 11810.715\n",
            "[12,   200] Train loss: 11770.579\n",
            "[12,   300] Train loss: 11758.309\n",
            "[12,   400] Train loss: 11764.435\n",
            "[12,   500] Train loss: 11750.558\n",
            "[12,   600] Train loss: 11745.789\n",
            "[12,   100] Test loss: 11653.739\n",
            "[13,   100] Train loss: 11781.905\n",
            "[13,   200] Train loss: 11745.872\n",
            "[13,   300] Train loss: 11716.076\n",
            "[13,   400] Train loss: 11673.082\n",
            "[13,   500] Train loss: 11719.787\n",
            "[13,   600] Train loss: 11654.900\n",
            "[13,   100] Test loss: 11603.430\n",
            "[14,   100] Train loss: 11685.807\n",
            "[14,   200] Train loss: 11647.317\n",
            "[14,   300] Train loss: 11668.007\n",
            "[14,   400] Train loss: 11646.814\n",
            "[14,   500] Train loss: 11661.374\n",
            "[14,   600] Train loss: 11695.734\n",
            "[14,   100] Test loss: 11538.622\n",
            "[15,   100] Train loss: 11638.694\n",
            "[15,   200] Train loss: 11631.247\n",
            "[15,   300] Train loss: 11593.331\n",
            "[15,   400] Train loss: 11631.996\n",
            "[15,   500] Train loss: 11604.699\n",
            "[15,   600] Train loss: 11636.649\n",
            "[15,   100] Test loss: 11498.719\n",
            "[16,   100] Train loss: 11609.800\n",
            "[16,   200] Train loss: 11549.352\n",
            "[16,   300] Train loss: 11561.484\n",
            "[16,   400] Train loss: 11595.271\n",
            "[16,   500] Train loss: 11585.126\n",
            "[16,   600] Train loss: 11589.596\n",
            "[16,   100] Test loss: 11464.377\n",
            "[17,   100] Train loss: 11553.538\n",
            "[17,   200] Train loss: 11567.998\n",
            "[17,   300] Train loss: 11546.498\n",
            "[17,   400] Train loss: 11522.156\n",
            "[17,   500] Train loss: 11542.744\n",
            "[17,   600] Train loss: 11502.558\n",
            "[17,   100] Test loss: 11418.099\n",
            "[18,   100] Train loss: 11484.794\n",
            "[18,   200] Train loss: 11522.019\n",
            "[18,   300] Train loss: 11534.337\n",
            "[18,   400] Train loss: 11486.112\n",
            "[18,   500] Train loss: 11486.875\n",
            "[18,   600] Train loss: 11480.182\n",
            "[18,   100] Test loss: 11388.735\n",
            "[19,   100] Train loss: 11477.140\n",
            "[19,   200] Train loss: 11536.297\n",
            "[19,   300] Train loss: 11438.601\n",
            "[19,   400] Train loss: 11472.657\n",
            "[19,   500] Train loss: 11416.448\n",
            "[19,   600] Train loss: 11435.928\n",
            "[19,   100] Test loss: 11353.687\n",
            "[20,   100] Train loss: 11442.925\n",
            "[20,   200] Train loss: 11411.715\n",
            "[20,   300] Train loss: 11385.804\n",
            "[20,   400] Train loss: 11478.259\n",
            "[20,   500] Train loss: 11418.795\n",
            "[20,   600] Train loss: 11438.253\n",
            "[20,   100] Test loss: 11331.033\n"
          ],
          "name": "stdout"
        }
      ]
    },
    {
      "cell_type": "code",
      "metadata": {
        "id": "RGztHz_V7mu3",
        "colab_type": "code",
        "colab": {}
      },
      "source": [
        "sample = torch.randn(1, 20)\n",
        "sample = model.decode(sample)"
      ],
      "execution_count": 0,
      "outputs": []
    },
    {
      "cell_type": "code",
      "metadata": {
        "id": "Rqc-d-gCH52B",
        "colab_type": "code",
        "colab": {
          "base_uri": "https://localhost:8080/",
          "height": 282
        },
        "outputId": "45907336-bb34-4d59-f6e5-da71daf7f978"
      },
      "source": [
        "import matplotlib.pyplot as plt\n",
        "plt.imshow(sample.view(28,28).detach().numpy())"
      ],
      "execution_count": 85,
      "outputs": [
        {
          "output_type": "execute_result",
          "data": {
            "text/plain": [
              "<matplotlib.image.AxesImage at 0x7f4f5be4cba8>"
            ]
          },
          "metadata": {
            "tags": []
          },
          "execution_count": 85
        },
        {
          "output_type": "display_data",
          "data": {
            "image/png": "[encoded data removed]",
            "text/plain": [
              "<Figure size 432x288 with 1 Axes>"
            ]
          },
          "metadata": {
            "tags": []
          }
        }
      ]
    },
    {
      "cell_type": "code",
      "metadata": {
        "id": "u9i7mOmMUNEq",
        "colab_type": "code",
        "colab": {}
      },
      "source": [
        ""
      ],
      "execution_count": 0,
      "outputs": []
    }
  ]
}