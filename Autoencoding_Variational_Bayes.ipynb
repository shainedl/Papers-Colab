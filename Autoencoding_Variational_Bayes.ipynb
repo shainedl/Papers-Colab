{
  "nbformat": 4,
  "nbformat_minor": 0,
  "metadata": {
    "colab": {
      "name": "Autoencoding_Variational_Bayes.ipynb",
      "provenance": [],
      "collapsed_sections": [],
      "include_colab_link": true
    },
    "kernelspec": {
      "name": "python3",
      "display_name": "Python 3"
    },
    "accelerator": "GPU"
  },
  "cells": [
    {
      "cell_type": "markdown",
      "metadata": {
        "id": "view-in-github",
        "colab_type": "text"
      },
      "source": [
        "<a href=\"https://colab.research.google.com/github/shainedl/Papers-Colab/blob/master/Autoencoding_Variational_Bayes.ipynb\" target=\"_parent\"><img src=\"https://colab.research.google.com/assets/colab-badge.svg\" alt=\"Open In Colab\"/></a>"
      ]
    },
    {
      "cell_type": "markdown",
      "metadata": {
        "id": "XP8kT-JxlTMG",
        "colab_type": "text"
      },
      "source": [
        "Based on *Auto-Encoding Variational Bayes* by Diederick P Kigma and Max Welling (Machine Learning Group, Universiteit van Amsterdam)"
      ]
    },
    {
      "cell_type": "code",
      "metadata": {
        "id": "O_2RvUvdlChL",
        "colab_type": "code",
        "colab": {}
      },
      "source": [
        "import torch\n",
        "from torch import nn, optim\n",
        "import torchvision \n",
        "import torch.nn.functional as F\n",
        "import matplotlib.pyplot as plt"
      ],
      "execution_count": 0,
      "outputs": []
    },
    {
      "cell_type": "code",
      "metadata": {
        "id": "7f_QS2nnlPND",
        "colab_type": "code",
        "colab": {}
      },
      "source": [
        "class VAE(nn.Module):\n",
        "  def __init__(self, input_size, hidden_units, N_z):\n",
        "    super(VAE, self).__init__()\n",
        "    \n",
        "    self.fc1 = nn.Linear(input_size, hidden_units)\n",
        "    self.fc21 = nn.Linear(hidden_units, N_z)\n",
        "    self.fc22 = nn.Linear(hidden_units, N_z)\n",
        "    self.fc3 = nn.Linear(N_z, hidden_units)\n",
        "    self.fc4 = nn.Linear(hidden_units, input_size)\n",
        "    \n",
        "    self.input_size = input_size\n",
        "  \n",
        "  def encode(self, x):\n",
        "    \"\"\"\n",
        "    Produces a Gaussian distribution over the possible values of the code z \n",
        "    from which x could have been generated\n",
        "    According to Appendix C.2\n",
        "    \n",
        "    Parameters\n",
        "    ----------\n",
        "      x: batch size x input size (after reshape) Tensor\n",
        "        observed data\n",
        "    \n",
        "    Returns\n",
        "    -------\n",
        "      mu: batch size x N_z (z dimensions) Tensor\n",
        "        mean of Gaussian distribution\n",
        "        \n",
        "      logvar: batch size x N_z (z dimensions) Tensor \n",
        "        log of variance of Gaussian distribution\n",
        "    \"\"\"\n",
        "    h_e  = torch.tanh(self.fc1(x.view(-1,self.input_size)))\n",
        "    mu = self.fc21(h_e)\n",
        "    logvar = self.fc22(h_e)\n",
        "    \n",
        "    return mu, logvar\n",
        "  \n",
        "  def decode(self, z):\n",
        "    \"\"\"\n",
        "    Given a code z it produces a Bernoulli distribution over the possible\n",
        "    corresponding values of x\n",
        "    According to Appendix C.1\n",
        "    \n",
        "    Parameters\n",
        "    ----------\n",
        "      z: batch size x N_z (z dimensions) Tensor\n",
        "        latent variables\n",
        "      \n",
        "    Returns\n",
        "    -------\n",
        "      batch size x input size Tensor\n",
        "        reconstructed x\n",
        "    \"\"\"\n",
        "    h_d = torch.tanh(self.fc3(z))\n",
        "    \n",
        "    return torch.sigmoid(self.fc4(h_d))\n",
        "  \n",
        "  def forward(self, x):\n",
        "    \"\"\"\n",
        "    Forward pass of the model \n",
        "    \"\"\"\n",
        "    mu, logvar = self.encode(x)\n",
        "    z = self.__reparameterize(mu, logvar)\n",
        "    \n",
        "    return self.decode(z), mu, logvar\n",
        "  \n",
        "  def __reparameterize(self, mu, logvar):\n",
        "    \"\"\"\n",
        "    Reparameterize the random variable z to express as a deterministic variable\n",
        "    \n",
        "    Parameters\n",
        "    ----------\n",
        "      mu: batch size x N_z (z dimensions) Tensor\n",
        "        mean of Gaussian distribution\n",
        "        \n",
        "      logvar: batch size x N_z (z dimensions) Tensor \n",
        "        log of variance of Gaussian distribution\n",
        "    \n",
        "    Returns\n",
        "    -------\n",
        "      batch size x N_z Tensor\n",
        "        Reparameterization of z\n",
        "    \"\"\"\n",
        "    std = torch.exp(logvar / 2)\n",
        "    eps = torch.randn_like(std)\n",
        "    \n",
        "    return mu + std * eps\n",
        "    "
      ],
      "execution_count": 0,
      "outputs": []
    },
    {
      "cell_type": "code",
      "metadata": {
        "id": "6oI2droyQsv8",
        "colab_type": "code",
        "colab": {}
      },
      "source": [
        "def loss_function(mu, logvar, y, x):\n",
        "  \"\"\"\n",
        "  KL according to Appendix B\n",
        "  \n",
        "  Parameters\n",
        "  ----------\n",
        "    mu: batch size x N_z (z dimensions) Tensor\n",
        "      mean of Gaussian distribution\n",
        "\n",
        "    logvar: batch size x N_z (z dimensions) Tensor \n",
        "      log of variance of Gaussian distribution\n",
        "      \n",
        "    y: batch size x input size Tensor\n",
        "      reconstructed x\n",
        "\n",
        "    x: batch size x input size Tensor\n",
        "      observed data\n",
        "\n",
        "  Returns\n",
        "  -------\n",
        "    Loss of batch\n",
        "  \n",
        "  \"\"\"\n",
        "  KL = torch.sum(1 + logvar - mu**2 - torch.exp(logvar)) / 2\n",
        "  \n",
        "  RE = F.binary_cross_entropy(y, x.view(-1,784), reduction = 'sum')\n",
        "  \n",
        "  elbo = KL - RE\n",
        "  loss = -1 * elbo\n",
        "  \n",
        "  return loss"
      ],
      "execution_count": 0,
      "outputs": []
    },
    {
      "cell_type": "code",
      "metadata": {
        "id": "MCJfBpMrzwhJ",
        "colab_type": "code",
        "colab": {}
      },
      "source": [
        "def train(epoch):\n",
        "  \n",
        "  model.train()\n",
        "  \n",
        "  running_loss = 0.0\n",
        "  for batch_idx, data in enumerate(train_loader):\n",
        "    inputs, labels = data\n",
        "    \n",
        "    if use_cuda and torch.cuda.is_available():\n",
        "      inputs = inputs.cuda()\n",
        "\n",
        "    # zero the parameter gradients\n",
        "    optimizer.zero_grad()\n",
        "    # forward + backward + optimize\n",
        "    y, mu, logvar = model(inputs)\n",
        "    loss = loss_function(mu, logvar, y, inputs)\n",
        "    loss.backward()\n",
        "    optimizer.step()\n",
        "\n",
        "    # print statistics\n",
        "    running_loss += loss.item()\n",
        "    if (epoch == 0 or epoch % 100 == 99) and batch_idx % 100 == 99:    # print every 100 mini-batches\n",
        "      print('[%d, %5d] Train loss: %.3f' % (epoch + 1, batch_idx + 1, running_loss / 100))\n",
        "      running_loss = 0.0      "
      ],
      "execution_count": 0,
      "outputs": []
    },
    {
      "cell_type": "code",
      "metadata": {
        "id": "EeoN3eGt9bA0",
        "colab_type": "code",
        "colab": {}
      },
      "source": [
        "def test(epoch):\n",
        "  \n",
        "  model.eval()\n",
        "  \n",
        "  running_loss = 0.0\n",
        "  for batch_idx, data in enumerate(test_loader):\n",
        "    inputs, labels = data\n",
        "    \n",
        "    if use_cuda and torch.cuda.is_available():\n",
        "      inputs = inputs.cuda()\n",
        "\n",
        "    y, mu, logvar = model(inputs)\n",
        "    running_loss += loss_function(mu, logvar, y, inputs).item()\n",
        " \n",
        "  if epoch == 0 or epoch % 100 == 99:\n",
        "    print('[%d, %5d] Test loss: %.3f' % (epoch + 1, batch_idx + 1, running_loss / 100))"
      ],
      "execution_count": 0,
      "outputs": []
    },
    {
      "cell_type": "code",
      "metadata": {
        "id": "iQyY9Sc9dxxP",
        "colab_type": "code",
        "colab": {
          "base_uri": "https://localhost:8080/",
          "height": 285
        },
        "outputId": "aecb7a05-ce73-444a-a2f2-e559f28ed79b"
      },
      "source": [
        "batch_size = 100\n",
        "\"\"\"\n",
        "Load in MNIST data\n",
        "https://nextjournal.com/gkoehler/pytorch-mnist\n",
        "Remove the normalization to create Bernoulli data\n",
        "\"\"\"\n",
        "train_loader = torch.utils.data.DataLoader(\n",
        "  torchvision.datasets.MNIST('/files/', train=True, download=True,\n",
        "                             transform=torchvision.transforms.Compose([\n",
        "                               torchvision.transforms.ToTensor()\n",
        "                             ])),\n",
        "  batch_size=batch_size, shuffle=True)\n",
        "\n",
        "test_loader = torch.utils.data.DataLoader(\n",
        "  torchvision.datasets.MNIST('/files/', train=False, download=True,\n",
        "                             transform=torchvision.transforms.Compose([\n",
        "                               torchvision.transforms.ToTensor()\n",
        "                             ])),\n",
        "  batch_size=batch_size, shuffle=True)"
      ],
      "execution_count": 7,
      "outputs": [
        {
          "output_type": "stream",
          "text": [
            "\r0it [00:00, ?it/s]"
          ],
          "name": "stderr"
        },
        {
          "output_type": "stream",
          "text": [
            "Downloading http://yann.lecun.com/exdb/mnist/train-images-idx3-ubyte.gz to /files/MNIST/raw/train-images-idx3-ubyte.gz\n"
          ],
          "name": "stdout"
        },
        {
          "output_type": "stream",
          "text": [
            "9920512it [00:08, 1155172.83it/s]                             \n"
          ],
          "name": "stderr"
        },
        {
          "output_type": "stream",
          "text": [
            "Extracting /files/MNIST/raw/train-images-idx3-ubyte.gz to /files/MNIST/raw\n"
          ],
          "name": "stdout"
        },
        {
          "output_type": "stream",
          "text": [
            "\r0it [00:00, ?it/s]"
          ],
          "name": "stderr"
        },
        {
          "output_type": "stream",
          "text": [
            "Downloading http://yann.lecun.com/exdb/mnist/train-labels-idx1-ubyte.gz to /files/MNIST/raw/train-labels-idx1-ubyte.gz\n"
          ],
          "name": "stdout"
        },
        {
          "output_type": "stream",
          "text": [
            "32768it [00:00, 57878.24it/s]                           \n",
            "0it [00:00, ?it/s]"
          ],
          "name": "stderr"
        },
        {
          "output_type": "stream",
          "text": [
            "Extracting /files/MNIST/raw/train-labels-idx1-ubyte.gz to /files/MNIST/raw\n",
            "Downloading http://yann.lecun.com/exdb/mnist/t10k-images-idx3-ubyte.gz to /files/MNIST/raw/t10k-images-idx3-ubyte.gz\n"
          ],
          "name": "stdout"
        },
        {
          "output_type": "stream",
          "text": [
            "1654784it [00:02, 681909.09it/s]                             \n",
            "0it [00:00, ?it/s]"
          ],
          "name": "stderr"
        },
        {
          "output_type": "stream",
          "text": [
            "Extracting /files/MNIST/raw/t10k-images-idx3-ubyte.gz to /files/MNIST/raw\n",
            "Downloading http://yann.lecun.com/exdb/mnist/t10k-labels-idx1-ubyte.gz to /files/MNIST/raw/t10k-labels-idx1-ubyte.gz\n"
          ],
          "name": "stdout"
        },
        {
          "output_type": "stream",
          "text": [
            "8192it [00:00, 21722.13it/s]            "
          ],
          "name": "stderr"
        },
        {
          "output_type": "stream",
          "text": [
            "Extracting /files/MNIST/raw/t10k-labels-idx1-ubyte.gz to /files/MNIST/raw\n",
            "Processing...\n",
            "Done!\n"
          ],
          "name": "stdout"
        },
        {
          "output_type": "stream",
          "text": [
            "\n"
          ],
          "name": "stderr"
        }
      ]
    },
    {
      "cell_type": "code",
      "metadata": {
        "id": "nhNEp6PSwD-0",
        "colab_type": "code",
        "colab": {
          "base_uri": "https://localhost:8080/",
          "height": 34
        },
        "outputId": "b881d59d-f99d-4a22-890e-352a2e31d8b6"
      },
      "source": [
        "len(train_loader)"
      ],
      "execution_count": 25,
      "outputs": [
        {
          "output_type": "execute_result",
          "data": {
            "text/plain": [
              "600"
            ]
          },
          "metadata": {
            "tags": []
          },
          "execution_count": 25
        }
      ]
    },
    {
      "cell_type": "markdown",
      "metadata": {
        "id": "qyxpP7qg6lri",
        "colab_type": "text"
      },
      "source": [
        "### Example of MNIST training "
      ]
    },
    {
      "cell_type": "code",
      "metadata": {
        "colab_type": "code",
        "id": "cbQc8lZ76kiJ",
        "colab": {}
      },
      "source": [
        "examples = enumerate(train_loader)\n",
        "batch_idx, (example_data, example_targets) = next(examples)"
      ],
      "execution_count": 0,
      "outputs": []
    },
    {
      "cell_type": "code",
      "metadata": {
        "id": "CNhkkGqH6mE3",
        "colab_type": "code",
        "colab": {
          "base_uri": "https://localhost:8080/",
          "height": 34
        },
        "outputId": "dc8995d0-61aa-4d31-a5a1-3a62abbc4e9f"
      },
      "source": [
        "example_data[0].size()"
      ],
      "execution_count": 8,
      "outputs": [
        {
          "output_type": "execute_result",
          "data": {
            "text/plain": [
              "torch.Size([1, 28, 28])"
            ]
          },
          "metadata": {
            "tags": []
          },
          "execution_count": 8
        }
      ]
    },
    {
      "cell_type": "code",
      "metadata": {
        "id": "2L95RklBI3Ed",
        "colab_type": "code",
        "colab": {
          "base_uri": "https://localhost:8080/",
          "height": 282
        },
        "outputId": "8ac45b91-855c-49ae-d67f-367a2b86fbb7"
      },
      "source": [
        "plt.imshow(example_data[0].view(28,28).detach().numpy())"
      ],
      "execution_count": 13,
      "outputs": [
        {
          "output_type": "execute_result",
          "data": {
            "text/plain": [
              "<matplotlib.image.AxesImage at 0x7f4f5d2549e8>"
            ]
          },
          "metadata": {
            "tags": []
          },
          "execution_count": 13
        },
        {
          "output_type": "display_data",
          "data": {
            "image/png": "[encoded data removed]",
            "text/plain": [
              "<Figure size 432x288 with 1 Axes>"
            ]
          },
          "metadata": {
            "tags": []
          }
        }
      ]
    },
    {
      "cell_type": "code",
      "metadata": {
        "id": "6ekc_8rSXGbp",
        "colab_type": "code",
        "colab": {}
      },
      "source": [
        "# input_size = 28 * 28 = 784\n",
        "model = VAE(784, 500, 20)"
      ],
      "execution_count": 0,
      "outputs": []
    },
    {
      "cell_type": "code",
      "metadata": {
        "id": "1ZOLZp-qVrqh",
        "colab_type": "code",
        "colab": {}
      },
      "source": [
        "\"\"\"\n",
        "GPU\n",
        "https://jovianlin.io/pytorch-with-gpu-in-google-colab/\n",
        "\"\"\"\n",
        "use_cuda = True"
      ],
      "execution_count": 0,
      "outputs": []
    },
    {
      "cell_type": "code",
      "metadata": {
        "id": "IfukcwqpWtre",
        "colab_type": "code",
        "colab": {}
      },
      "source": [
        "if use_cuda and torch.cuda.is_available():\n",
        "  model.cuda()"
      ],
      "execution_count": 0,
      "outputs": []
    },
    {
      "cell_type": "code",
      "metadata": {
        "id": "W_H3B7YF3zkR",
        "colab_type": "code",
        "colab": {
          "base_uri": "https://localhost:8080/",
          "height": 763
        },
        "outputId": "a5f70903-9ef1-4c9b-b5c0-05e6765fac96"
      },
      "source": [
        "optimizer = optim.Adagrad(model.parameters(), lr=1e-2)\n",
        "\n",
        "num_epochs = 500\n",
        "for epoch in range(num_epochs):\n",
        "  train(epoch)\n",
        "  test(epoch)"
      ],
      "execution_count": 34,
      "outputs": [
        {
          "output_type": "stream",
          "text": [
            "[1,   100] Train loss: 13283.166\n",
            "[1,   200] Train loss: 11336.398\n",
            "[1,   300] Train loss: 11275.783\n",
            "[1,   400] Train loss: 11191.788\n",
            "[1,   500] Train loss: 11123.231\n",
            "[1,   600] Train loss: 11148.330\n",
            "[1,   100] Test loss: 11019.003\n",
            "[100,   100] Train loss: 10349.456\n",
            "[100,   200] Train loss: 10308.233\n",
            "[100,   300] Train loss: 10346.559\n",
            "[100,   400] Train loss: 10348.065\n",
            "[100,   500] Train loss: 10340.526\n",
            "[100,   600] Train loss: 10297.602\n",
            "[100,   100] Test loss: 10329.313\n",
            "[200,   100] Train loss: 10221.779\n",
            "[200,   200] Train loss: 10232.278\n",
            "[200,   300] Train loss: 10221.995\n",
            "[200,   400] Train loss: 10204.851\n",
            "[200,   500] Train loss: 10210.308\n",
            "[200,   600] Train loss: 10232.577\n",
            "[200,   100] Test loss: 10237.078\n",
            "[300,   100] Train loss: 10138.936\n",
            "[300,   200] Train loss: 10174.068\n",
            "[300,   300] Train loss: 10175.147\n",
            "[300,   400] Train loss: 10154.078\n",
            "[300,   500] Train loss: 10170.233\n",
            "[300,   600] Train loss: 10169.591\n",
            "[300,   100] Test loss: 10192.527\n",
            "[400,   100] Train loss: 10148.267\n",
            "[400,   200] Train loss: 10085.855\n",
            "[400,   300] Train loss: 10112.986\n",
            "[400,   400] Train loss: 10121.310\n",
            "[400,   500] Train loss: 10142.350\n",
            "[400,   600] Train loss: 10112.759\n",
            "[400,   100] Test loss: 10156.262\n",
            "[500,   100] Train loss: 10053.158\n",
            "[500,   200] Train loss: 10100.577\n",
            "[500,   300] Train loss: 10099.171\n",
            "[500,   400] Train loss: 10113.418\n",
            "[500,   500] Train loss: 10110.287\n",
            "[500,   600] Train loss: 10078.696\n",
            "[500,   100] Test loss: 10130.509\n"
          ],
          "name": "stdout"
        }
      ]
    },
    {
      "cell_type": "markdown",
      "metadata": {
        "id": "RZCE8Vi16slN",
        "colab_type": "text"
      },
      "source": [
        "### Generate from decoder"
      ]
    },
    {
      "cell_type": "code",
      "metadata": {
        "id": "DKtRJQjaZhPE",
        "colab_type": "code",
        "colab": {}
      },
      "source": [
        "sample = torch.randn(1, 20).cuda()\n",
        "sample = model.decode(sample)"
      ],
      "execution_count": 0,
      "outputs": []
    },
    {
      "cell_type": "code",
      "metadata": {
        "id": "WJx7NWc5ZkQx",
        "colab_type": "code",
        "colab": {
          "base_uri": "https://localhost:8080/",
          "height": 282
        },
        "outputId": "b5282433-735b-42b6-bd63-0550b9c67cee"
      },
      "source": [
        "import matplotlib.pyplot as plt\n",
        "plt.imshow(sample.view(28,28).cpu().detach().numpy())"
      ],
      "execution_count": 36,
      "outputs": [
        {
          "output_type": "execute_result",
          "data": {
            "text/plain": [
              "<matplotlib.image.AxesImage at 0x7f390ab192e8>"
            ]
          },
          "metadata": {
            "tags": []
          },
          "execution_count": 36
        },
        {
          "output_type": "display_data",
          "data": {
            "image/png": "[encoded data removed]",
            "text/plain": [
              "<Figure size 432x288 with 1 Axes>"
            ]
          },
          "metadata": {
            "tags": []
          }
        }
      ]
    },
    {
      "cell_type": "code",
      "metadata": {
        "id": "KAGCl9lFxOq0",
        "colab_type": "code",
        "colab": {}
      },
      "source": [
        "sample = torch.randn(1, 20).cuda()\n",
        "sample = model.decode(sample)"
      ],
      "execution_count": 0,
      "outputs": []
    },
    {
      "cell_type": "code",
      "metadata": {
        "id": "-K5bUmcDxQ5Q",
        "colab_type": "code",
        "colab": {
          "base_uri": "https://localhost:8080/",
          "height": 282
        },
        "outputId": "4d610e9d-af8f-4fd5-912a-9cd252fe1546"
      },
      "source": [
        "plt.imshow(sample.view(28,28).cpu().detach().numpy())"
      ],
      "execution_count": 38,
      "outputs": [
        {
          "output_type": "execute_result",
          "data": {
            "text/plain": [
              "<matplotlib.image.AxesImage at 0x7f3909423be0>"
            ]
          },
          "metadata": {
            "tags": []
          },
          "execution_count": 38
        },
        {
          "output_type": "display_data",
          "data": {
            "image/png": "[encoded data removed]",
            "text/plain": [
              "<Figure size 432x288 with 1 Axes>"
            ]
          },
          "metadata": {
            "tags": []
          }
        }
      ]
    },
    {
      "cell_type": "code",
      "metadata": {
        "id": "8q75Lr64xear",
        "colab_type": "code",
        "colab": {}
      },
      "source": [
        "sample = torch.randn(1, 20).cuda()\n",
        "sample = model.decode(sample)"
      ],
      "execution_count": 0,
      "outputs": []
    },
    {
      "cell_type": "code",
      "metadata": {
        "id": "GKkttrUSxixV",
        "colab_type": "code",
        "colab": {
          "base_uri": "https://localhost:8080/",
          "height": 282
        },
        "outputId": "5acee9fb-cbcd-4a6d-ca0c-469fab4825e1"
      },
      "source": [
        "plt.imshow(sample.view(28,28).cpu().detach().numpy())"
      ],
      "execution_count": 50,
      "outputs": [
        {
          "output_type": "execute_result",
          "data": {
            "text/plain": [
              "<matplotlib.image.AxesImage at 0x7f3909387320>"
            ]
          },
          "metadata": {
            "tags": []
          },
          "execution_count": 50
        },
        {
          "output_type": "display_data",
          "data": {
            "image/png": "[encoded data removed]",
            "text/plain": [
              "<Figure size 432x288 with 1 Axes>"
            ]
          },
          "metadata": {
            "tags": []
          }
        }
      ]
    },
    {
      "cell_type": "markdown",
      "metadata": {
        "id": "ERORjMfgxuZJ",
        "colab_type": "text"
      },
      "source": [
        "### Generation from 20 epochs"
      ]
    },
    {
      "cell_type": "code",
      "metadata": {
        "id": "RGztHz_V7mu3",
        "colab_type": "code",
        "colab": {}
      },
      "source": [
        "sample = torch.randn(1, 20).cuda()\n",
        "sample = model.decode(sample)"
      ],
      "execution_count": 0,
      "outputs": []
    },
    {
      "cell_type": "code",
      "metadata": {
        "id": "Rqc-d-gCH52B",
        "colab_type": "code",
        "colab": {
          "base_uri": "https://localhost:8080/",
          "height": 282
        },
        "outputId": "6336976a-f61b-4a2e-9103-b2f3f5ade88a"
      },
      "source": [
        "plt.imshow(sample.view(28,28).cpu().detach().numpy())"
      ],
      "execution_count": 31,
      "outputs": [
        {
          "output_type": "execute_result",
          "data": {
            "text/plain": [
              "<matplotlib.image.AxesImage at 0x7f390ab96908>"
            ]
          },
          "metadata": {
            "tags": []
          },
          "execution_count": 31
        },
        {
          "output_type": "display_data",
          "data": {
            "image/png": "[encoded data removed]",
            "text/plain": [
              "<Figure size 432x288 with 1 Axes>"
            ]
          },
          "metadata": {
            "tags": []
          }
        }
      ]
    }
  ]
}