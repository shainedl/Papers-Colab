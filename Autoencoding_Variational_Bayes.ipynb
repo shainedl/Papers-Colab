{
  "nbformat": 4,
  "nbformat_minor": 0,
  "metadata": {
    "colab": {
      "name": "Autoencoding_Variational_Bayes.ipynb",
      "provenance": [],
      "collapsed_sections": [],
      "include_colab_link": true
    },
    "kernelspec": {
      "name": "python3",
      "display_name": "Python 3"
    }
  },
  "cells": [
    {
      "cell_type": "markdown",
      "metadata": {
        "id": "view-in-github",
        "colab_type": "text"
      },
      "source": [
        "<a href=\"https://colab.research.google.com/github/shainedl/Papers-Colab/blob/master/Autoencoding_Variational_Bayes.ipynb\" target=\"_parent\"><img src=\"https://colab.research.google.com/assets/colab-badge.svg\" alt=\"Open In Colab\"/></a>"
      ]
    },
    {
      "cell_type": "markdown",
      "metadata": {
        "id": "XP8kT-JxlTMG",
        "colab_type": "text"
      },
      "source": [
        "Based on *Auto-Encoding Variational Bayes* by Diederick P Kigma and Max Welling (Machine Learning Group, Universiteit van Amsterdam)"
      ]
    },
    {
      "cell_type": "code",
      "metadata": {
        "id": "O_2RvUvdlChL",
        "colab_type": "code",
        "colab": {}
      },
      "source": [
        "import torch\n",
        "from torch import nn, optim\n",
        "import torch.nn.functional as F\n",
        "import torchvision "
      ],
      "execution_count": 0,
      "outputs": []
    },
    {
      "cell_type": "code",
      "metadata": {
        "id": "7f_QS2nnlPND",
        "colab_type": "code",
        "colab": {}
      },
      "source": [
        "class VAE(nn.Module):\n",
        "  def __init__(self, input_size, hidden_units, N_z):\n",
        "    super(VAE, self).__init__()\n",
        "    \n",
        "    self.fc1 = nn.Linear(input_size, hidden_units)\n",
        "    self.fc21 = nn.Linear(hidden_units, N_z)\n",
        "    self.fc22 = nn.Linear(hidden_units, N_z)\n",
        "    self.fc3 = nn.Linear(N_z, hidden_units)\n",
        "    self.fc4 = nn.Linear(hidden_units, input_size)\n",
        "    \n",
        "    self.input_size = input_size\n",
        "  \n",
        "  def encode(self, x):\n",
        "    \"\"\"\n",
        "    According to Appendix C.2\n",
        "    \"\"\"\n",
        "    h_e  = F.tanh(self.fc1(x.view(-1,self.input_size)))\n",
        "    mu = self.fc21(h_e)\n",
        "    logvar = self.fc22(h_e)\n",
        "    \n",
        "    return mu, logvar\n",
        "  \n",
        "  def decode(self, z):\n",
        "    \"\"\"\n",
        "    According to Appendix C.1\n",
        "    \"\"\"\n",
        "    h_d = F.tanh(self.fc3(z))\n",
        "    \n",
        "    return F.sigmoid(self.fc4(h_d))\n",
        "  \n",
        "  def forward(self, x):\n",
        "    mu, logvar = self.encode(x)\n",
        "    z = self.__reparameterize(mu, logvar)\n",
        "    \n",
        "    return self.decode(z), mu, logvar\n",
        "  \n",
        "  def __reparameterize(self, mu, logvar):\n",
        "    std = torch.exp(logvar / 2)\n",
        "    eps = torch.randn_like(std)\n",
        "    \n",
        "    return mu + std * eps\n",
        "    "
      ],
      "execution_count": 0,
      "outputs": []
    },
    {
      "cell_type": "code",
      "metadata": {
        "id": "6oI2droyQsv8",
        "colab_type": "code",
        "colab": {}
      },
      "source": [
        "def loss_function(mu, logvar, y, x):\n",
        "  \"\"\"\n",
        "  KL according to Appendix B\n",
        "  \"\"\"\n",
        "  KL = torch.sum(1 + logvar - mu**2 - torch.exp(logvar)) / 2\n",
        "  \n",
        "  RE = F.binary_cross_entropy(y, x, reduction = 'sum')\n",
        "  \n",
        "  elbo = KL - RE\n",
        "  loss = -1 * elbo\n",
        "  \n",
        "  return loss"
      ],
      "execution_count": 0,
      "outputs": []
    },
    {
      "cell_type": "code",
      "metadata": {
        "id": "MCJfBpMrzwhJ",
        "colab_type": "code",
        "colab": {}
      },
      "source": [
        "def train(num_epochs):\n",
        "  \n",
        "  for epoch in range(num_epochs):\n",
        "    \n",
        "    running_loss = 0.0\n",
        "    for batch_idx, data in enumerate(train_loader):\n",
        "      inputs, labels = data\n",
        "      \n",
        "      # zero the parameter gradients\n",
        "      optimizer.zero_grad()\n",
        "\n",
        "      # forward + backward + optimize\n",
        "      y, mu, logvar = model(inputs)\n",
        "      loss = loss_function(mu, logvar, y, inputs)\n",
        "      loss.backward()\n",
        "      optimizer.step()\n",
        "      \n",
        "      # print statistics\n",
        "      running_loss += loss.item()\n",
        "      if batch_idx % 50 == 49:    # print every 50 mini-batches\n",
        "        print('[%d, %5d] loss: %.3f' % (epoch + 1, batch_idx + 1, running_loss / 50))\n",
        "        running_loss = 0.0\n",
        "            \n",
        "  print('Finished Training')          \n",
        "      "
      ],
      "execution_count": 0,
      "outputs": []
    },
    {
      "cell_type": "code",
      "metadata": {
        "id": "iQyY9Sc9dxxP",
        "colab_type": "code",
        "colab": {
          "base_uri": "https://localhost:8080/",
          "height": 1000
        },
        "outputId": "c9489822-3119-48c6-8883-0d39ba35b719"
      },
      "source": [
        "batch_size = 100\n",
        "\"\"\"\n",
        "https://nextjournal.com/gkoehler/pytorch-mnist\n",
        "Remove the normalization to create Bernoulli data\n",
        "\"\"\"\n",
        "train_loader = torch.utils.data.DataLoader(\n",
        "  torchvision.datasets.MNIST('/files/', train=True, download=True,\n",
        "                             transform=torchvision.transforms.Compose([\n",
        "                               torchvision.transforms.ToTensor()\n",
        "                             ])),\n",
        "  batch_size=batch_size, shuffle=True)\n",
        "\n",
        "test_loader = torch.utils.data.DataLoader(\n",
        "  torchvision.datasets.MNIST('/files/', train=False, download=True,\n",
        "                             transform=torchvision.transforms.Compose([\n",
        "                               torchvision.transforms.ToTensor()\n",
        "                             ])),\n",
        "  batch_size=batch_size, shuffle=True)"
      ],
      "execution_count": 7,
      "outputs": [
        {
          "output_type": "stream",
          "text": [
            "\r0it [00:00, ?it/s]"
          ],
          "name": "stderr"
        },
        {
          "output_type": "stream",
          "text": [
            "Downloading http://yann.lecun.com/exdb/mnist/train-images-idx3-ubyte.gz to /files/MNIST/raw/train-images-idx3-ubyte.gz\n"
          ],
          "name": "stdout"
        },
        {
          "output_type": "stream",
          "text": [
            "100%|█████████▉| 9912320/9912422 [00:13<00:00, 592787.95it/s]"
          ],
          "name": "stderr"
        },
        {
          "output_type": "stream",
          "text": [
            "Extracting /files/MNIST/raw/train-images-idx3-ubyte.gz to /files/MNIST/raw\n"
          ],
          "name": "stdout"
        },
        {
          "output_type": "stream",
          "text": [
            "\n",
            "0it [00:00, ?it/s]\u001b[A\n",
            "  0%|          | 0/28881 [00:00<?, ?it/s]\u001b[A"
          ],
          "name": "stderr"
        },
        {
          "output_type": "stream",
          "text": [
            "Downloading http://yann.lecun.com/exdb/mnist/train-labels-idx1-ubyte.gz to /files/MNIST/raw/train-labels-idx1-ubyte.gz\n"
          ],
          "name": "stdout"
        },
        {
          "output_type": "stream",
          "text": [
            "\n",
            " 57%|█████▋    | 16384/28881 [00:00<00:00, 109639.61it/s]\u001b[A\n",
            "32768it [00:00, 87032.84it/s]                            \u001b[A\n",
            "0it [00:00, ?it/s]\u001b[A\n",
            "  0%|          | 0/1648877 [00:00<?, ?it/s]\u001b[A"
          ],
          "name": "stderr"
        },
        {
          "output_type": "stream",
          "text": [
            "Extracting /files/MNIST/raw/train-labels-idx1-ubyte.gz to /files/MNIST/raw\n",
            "Downloading http://yann.lecun.com/exdb/mnist/t10k-images-idx3-ubyte.gz to /files/MNIST/raw/t10k-images-idx3-ubyte.gz\n"
          ],
          "name": "stdout"
        },
        {
          "output_type": "stream",
          "text": [
            "\n",
            "  2%|▏         | 32768/1648877 [00:00<00:08, 185774.76it/s]\u001b[A\n",
            "  4%|▍         | 73728/1648877 [00:00<00:07, 206731.49it/s]\u001b[A\n",
            "  7%|▋         | 122880/1648877 [00:00<00:06, 234017.49it/s]\u001b[A\n",
            " 10%|█         | 172032/1648877 [00:00<00:05, 257342.56it/s]\u001b[A\n",
            " 12%|█▏        | 196608/1648877 [00:00<00:06, 222266.73it/s]\u001b[A\n",
            " 16%|█▌        | 262144/1648877 [00:01<00:06, 223766.96it/s]\u001b[A\n",
            " 19%|█▉        | 319488/1648877 [00:01<00:05, 257305.29it/s]\u001b[A\n",
            " 21%|██▏       | 352256/1648877 [00:01<00:06, 211921.83it/s]\u001b[A\n",
            " 23%|██▎       | 385024/1648877 [00:01<00:05, 216473.13it/s]\u001b[A\n",
            " 25%|██▍       | 409600/1648877 [00:01<00:06, 200411.86it/s]\u001b[A\n",
            " 26%|██▋       | 434176/1648877 [00:02<00:06, 190408.83it/s]\u001b[A\n",
            " 28%|██▊       | 458752/1648877 [00:02<00:06, 184364.70it/s]\u001b[A\n",
            " 30%|██▉       | 491520/1648877 [00:02<00:05, 195549.20it/s]\u001b[A\n",
            " 31%|███▏      | 516096/1648877 [00:02<00:06, 187058.10it/s]\u001b[A\n",
            " 33%|███▎      | 540672/1648877 [00:02<00:06, 180065.23it/s]\u001b[A\n",
            " 34%|███▍      | 565248/1648877 [00:02<00:07, 152939.02it/s]\u001b[A\n",
            " 35%|███▌      | 581632/1648877 [00:02<00:07, 138720.17it/s]\u001b[A\n",
            " 36%|███▋      | 598016/1648877 [00:03<00:07, 139247.30it/s]\u001b[A\n",
            " 38%|███▊      | 622592/1648877 [00:03<00:09, 112528.35it/s]\u001b[A\n",
            " 40%|████      | 663552/1648877 [00:03<00:07, 137047.13it/s]\u001b[A\n",
            " 42%|████▏     | 688128/1648877 [00:03<00:09, 102074.80it/s]\u001b[A\n",
            " 44%|████▎     | 720896/1648877 [00:04<00:07, 125818.56it/s]\u001b[A\n",
            " 45%|████▌     | 745472/1648877 [00:04<00:06, 131271.85it/s]\u001b[A\n",
            " 47%|████▋     | 770048/1648877 [00:04<00:06, 130373.13it/s]\u001b[A\n",
            " 48%|████▊     | 794624/1648877 [00:04<00:06, 140267.84it/s]\u001b[A\n",
            " 50%|████▉     | 819200/1648877 [00:04<00:05, 148081.99it/s]\u001b[A\n",
            " 52%|█████▏    | 851968/1648877 [00:04<00:04, 165368.85it/s]\u001b[A\n",
            " 54%|█████▎    | 884736/1648877 [00:04<00:04, 179395.92it/s]\u001b[A\n",
            " 56%|█████▌    | 917504/1648877 [00:05<00:03, 192221.91it/s]\u001b[A\n",
            " 58%|█████▊    | 950272/1648877 [00:05<00:03, 201580.81it/s]\u001b[A\n",
            " 60%|██████    | 991232/1648877 [00:05<00:03, 179994.13it/s]\u001b[A\n",
            " 64%|██████▎   | 1048576/1648877 [00:05<00:02, 226588.71it/s]\u001b[A\n",
            " 66%|██████▌   | 1081344/1648877 [00:05<00:02, 226855.74it/s]\u001b[A\n",
            " 68%|██████▊   | 1114112/1648877 [00:05<00:02, 227198.87it/s]\u001b[A\n",
            " 70%|██████▉   | 1146880/1648877 [00:06<00:02, 239890.76it/s]\u001b[A\n",
            " 72%|███████▏  | 1179648/1648877 [00:06<00:01, 260493.53it/s]\u001b[A\n",
            " 74%|███████▎  | 1212416/1648877 [00:06<00:01, 249397.47it/s]\u001b[A\n",
            " 76%|███████▌  | 1245184/1648877 [00:06<00:01, 260318.40it/s]\u001b[A\n",
            " 78%|███████▊  | 1277952/1648877 [00:06<00:01, 274993.21it/s]\u001b[A\n",
            " 80%|███████▉  | 1318912/1648877 [00:06<00:01, 294250.48it/s]\u001b[A\n",
            " 82%|████████▏ | 1359872/1648877 [00:06<00:00, 319655.56it/s]\u001b[A\n",
            " 85%|████████▍ | 1400832/1648877 [00:06<00:00, 312479.50it/s]\u001b[A\n",
            " 87%|████████▋ | 1433600/1648877 [00:07<00:00, 234515.63it/s]\u001b[A\n",
            " 91%|█████████ | 1499136/1648877 [00:07<00:00, 285933.24it/s]\u001b[A\n",
            " 93%|█████████▎| 1540096/1648877 [00:07<00:00, 286706.98it/s]\u001b[A\n",
            " 96%|█████████▌| 1581056/1648877 [00:07<00:00, 310022.98it/s]\u001b[A\n",
            " 98%|█████████▊| 1622016/1648877 [00:07<00:00, 260706.02it/s]\u001b[A\n",
            "1654784it [00:07, 200360.20it/s]                             \u001b[A\n",
            "\n",
            "0it [00:00, ?it/s]\u001b[A\u001b[A"
          ],
          "name": "stderr"
        },
        {
          "output_type": "stream",
          "text": [
            "Extracting /files/MNIST/raw/t10k-images-idx3-ubyte.gz to /files/MNIST/raw\n",
            "Downloading http://yann.lecun.com/exdb/mnist/t10k-labels-idx1-ubyte.gz to /files/MNIST/raw/t10k-labels-idx1-ubyte.gz\n"
          ],
          "name": "stdout"
        },
        {
          "output_type": "stream",
          "text": [
            "\n",
            "\n",
            "  0%|          | 0/4542 [00:00<?, ?it/s]\u001b[A\u001b[A\n",
            "\n",
            "8192it [00:00, 53752.18it/s]            \u001b[A\u001b[A"
          ],
          "name": "stderr"
        },
        {
          "output_type": "stream",
          "text": [
            "Extracting /files/MNIST/raw/t10k-labels-idx1-ubyte.gz to /files/MNIST/raw\n",
            "Processing...\n",
            "Done!\n"
          ],
          "name": "stdout"
        }
      ]
    },
    {
      "cell_type": "code",
      "metadata": {
        "id": "nhNEp6PSwD-0",
        "colab_type": "code",
        "colab": {
          "base_uri": "https://localhost:8080/",
          "height": 34
        },
        "outputId": "b881d59d-f99d-4a22-890e-352a2e31d8b6"
      },
      "source": [
        "len(train_loader)"
      ],
      "execution_count": 25,
      "outputs": [
        {
          "output_type": "execute_result",
          "data": {
            "text/plain": [
              "600"
            ]
          },
          "metadata": {
            "tags": []
          },
          "execution_count": 25
        }
      ]
    },
    {
      "cell_type": "code",
      "metadata": {
        "colab_type": "code",
        "id": "cbQc8lZ76kiJ",
        "colab": {}
      },
      "source": [
        "examples = enumerate(train_loader)\n",
        "batch_idx, (example_data, example_targets) = next(examples)"
      ],
      "execution_count": 0,
      "outputs": []
    },
    {
      "cell_type": "code",
      "metadata": {
        "id": "CNhkkGqH6mE3",
        "colab_type": "code",
        "colab": {
          "base_uri": "https://localhost:8080/",
          "height": 34
        },
        "outputId": "cdcc39dc-c338-413e-a41c-df0aa80ae14a"
      },
      "source": [
        "example_data[0].size()"
      ],
      "execution_count": 36,
      "outputs": [
        {
          "output_type": "execute_result",
          "data": {
            "text/plain": [
              "torch.Size([1, 28, 28])"
            ]
          },
          "metadata": {
            "tags": []
          },
          "execution_count": 36
        }
      ]
    },
    {
      "cell_type": "code",
      "metadata": {
        "id": "W_H3B7YF3zkR",
        "colab_type": "code",
        "colab": {
          "base_uri": "https://localhost:8080/",
          "height": 463
        },
        "outputId": "162441ea-12d9-4cd5-d21f-189ec8c662e9"
      },
      "source": [
        "# input_size = 28 * 28 = 784\n",
        "model = VAE(784, 500, 20)\n",
        "optimizer = optim.SGD(model.parameters(), lr=1e-3)\n",
        "train(3)"
      ],
      "execution_count": 71,
      "outputs": [
        {
          "output_type": "stream",
          "text": [
            "/usr/local/lib/python3.6/dist-packages/torch/nn/functional.py:1340: UserWarning: nn.functional.tanh is deprecated. Use torch.tanh instead.\n",
            "  warnings.warn(\"nn.functional.tanh is deprecated. Use torch.tanh instead.\")\n",
            "/usr/local/lib/python3.6/dist-packages/torch/nn/functional.py:1351: UserWarning: nn.functional.sigmoid is deprecated. Use torch.sigmoid instead.\n",
            "  warnings.warn(\"nn.functional.sigmoid is deprecated. Use torch.sigmoid instead.\")\n",
            "/usr/local/lib/python3.6/dist-packages/ipykernel_launcher.py:7: UserWarning: Using a target size (torch.Size([100, 1, 28, 28])) that is different to the input size (torch.Size([100, 784])) is deprecated. Please ensure they have the same size.\n",
            "  import sys\n"
          ],
          "name": "stderr"
        },
        {
          "output_type": "error",
          "ename": "RuntimeError",
          "evalue": "ignored",
          "traceback": [
            "\u001b[0;31m---------------------------------------------------------------------------\u001b[0m",
            "\u001b[0;31mRuntimeError\u001b[0m                              Traceback (most recent call last)",
            "\u001b[0;32m<ipython-input-71-3423d27cdc27>\u001b[0m in \u001b[0;36m<module>\u001b[0;34m()\u001b[0m\n\u001b[1;32m      1\u001b[0m \u001b[0mmodel\u001b[0m \u001b[0;34m=\u001b[0m \u001b[0mVAE\u001b[0m\u001b[0;34m(\u001b[0m\u001b[0;36m784\u001b[0m\u001b[0;34m,\u001b[0m \u001b[0;36m500\u001b[0m\u001b[0;34m,\u001b[0m \u001b[0;36m20\u001b[0m\u001b[0;34m)\u001b[0m\u001b[0;34m\u001b[0m\u001b[0;34m\u001b[0m\u001b[0m\n\u001b[1;32m      2\u001b[0m \u001b[0moptimizer\u001b[0m \u001b[0;34m=\u001b[0m \u001b[0moptim\u001b[0m\u001b[0;34m.\u001b[0m\u001b[0mSGD\u001b[0m\u001b[0;34m(\u001b[0m\u001b[0mmodel\u001b[0m\u001b[0;34m.\u001b[0m\u001b[0mparameters\u001b[0m\u001b[0;34m(\u001b[0m\u001b[0;34m)\u001b[0m\u001b[0;34m,\u001b[0m \u001b[0mlr\u001b[0m\u001b[0;34m=\u001b[0m\u001b[0;36m1e-3\u001b[0m\u001b[0;34m)\u001b[0m\u001b[0;34m\u001b[0m\u001b[0;34m\u001b[0m\u001b[0m\n\u001b[0;32m----> 3\u001b[0;31m \u001b[0mtrain\u001b[0m\u001b[0;34m(\u001b[0m\u001b[0;36m3\u001b[0m\u001b[0;34m)\u001b[0m\u001b[0;34m\u001b[0m\u001b[0;34m\u001b[0m\u001b[0m\n\u001b[0m",
            "\u001b[0;32m<ipython-input-70-3040e5ae6c89>\u001b[0m in \u001b[0;36mtrain\u001b[0;34m(num_epochs)\u001b[0m\n\u001b[1;32m     12\u001b[0m       \u001b[0;31m# forward + backward + optimize\u001b[0m\u001b[0;34m\u001b[0m\u001b[0;34m\u001b[0m\u001b[0;34m\u001b[0m\u001b[0m\n\u001b[1;32m     13\u001b[0m       \u001b[0my\u001b[0m\u001b[0;34m,\u001b[0m \u001b[0mmu\u001b[0m\u001b[0;34m,\u001b[0m \u001b[0mlogvar\u001b[0m \u001b[0;34m=\u001b[0m \u001b[0mmodel\u001b[0m\u001b[0;34m(\u001b[0m\u001b[0minputs\u001b[0m\u001b[0;34m)\u001b[0m\u001b[0;34m\u001b[0m\u001b[0;34m\u001b[0m\u001b[0m\n\u001b[0;32m---> 14\u001b[0;31m       \u001b[0mloss\u001b[0m \u001b[0;34m=\u001b[0m \u001b[0mloss_function\u001b[0m\u001b[0;34m(\u001b[0m\u001b[0mmu\u001b[0m\u001b[0;34m,\u001b[0m \u001b[0mlogvar\u001b[0m\u001b[0;34m,\u001b[0m \u001b[0my\u001b[0m\u001b[0;34m,\u001b[0m \u001b[0minputs\u001b[0m\u001b[0;34m)\u001b[0m\u001b[0;34m\u001b[0m\u001b[0;34m\u001b[0m\u001b[0m\n\u001b[0m\u001b[1;32m     15\u001b[0m       \u001b[0mloss\u001b[0m\u001b[0;34m.\u001b[0m\u001b[0mbackward\u001b[0m\u001b[0;34m(\u001b[0m\u001b[0;34m)\u001b[0m\u001b[0;34m\u001b[0m\u001b[0;34m\u001b[0m\u001b[0m\n\u001b[1;32m     16\u001b[0m       \u001b[0moptimizer\u001b[0m\u001b[0;34m.\u001b[0m\u001b[0mstep\u001b[0m\u001b[0;34m(\u001b[0m\u001b[0;34m)\u001b[0m\u001b[0;34m\u001b[0m\u001b[0;34m\u001b[0m\u001b[0m\n",
            "\u001b[0;32m<ipython-input-61-05e7b85b0120>\u001b[0m in \u001b[0;36mloss_function\u001b[0;34m(mu, logvar, y, x)\u001b[0m\n\u001b[1;32m      5\u001b[0m   \u001b[0mKL\u001b[0m \u001b[0;34m=\u001b[0m \u001b[0mtorch\u001b[0m\u001b[0;34m.\u001b[0m\u001b[0msum\u001b[0m\u001b[0;34m(\u001b[0m\u001b[0;36m1\u001b[0m \u001b[0;34m+\u001b[0m \u001b[0mlogvar\u001b[0m \u001b[0;34m-\u001b[0m \u001b[0mmu\u001b[0m\u001b[0;34m**\u001b[0m\u001b[0;36m2\u001b[0m \u001b[0;34m-\u001b[0m \u001b[0mtorch\u001b[0m\u001b[0;34m.\u001b[0m\u001b[0mexp\u001b[0m\u001b[0;34m(\u001b[0m\u001b[0mlogvar\u001b[0m\u001b[0;34m)\u001b[0m\u001b[0;34m)\u001b[0m \u001b[0;34m/\u001b[0m \u001b[0;36m2\u001b[0m\u001b[0;34m\u001b[0m\u001b[0;34m\u001b[0m\u001b[0m\n\u001b[1;32m      6\u001b[0m \u001b[0;34m\u001b[0m\u001b[0m\n\u001b[0;32m----> 7\u001b[0;31m   \u001b[0mRE\u001b[0m \u001b[0;34m=\u001b[0m \u001b[0mF\u001b[0m\u001b[0;34m.\u001b[0m\u001b[0mbinary_cross_entropy\u001b[0m\u001b[0;34m(\u001b[0m\u001b[0my\u001b[0m\u001b[0;34m,\u001b[0m \u001b[0mx\u001b[0m\u001b[0;34m,\u001b[0m \u001b[0mreduction\u001b[0m \u001b[0;34m=\u001b[0m \u001b[0;34m'sum'\u001b[0m\u001b[0;34m)\u001b[0m\u001b[0;34m\u001b[0m\u001b[0;34m\u001b[0m\u001b[0m\n\u001b[0m\u001b[1;32m      8\u001b[0m \u001b[0;34m\u001b[0m\u001b[0m\n\u001b[1;32m      9\u001b[0m   \u001b[0melbo\u001b[0m \u001b[0;34m=\u001b[0m \u001b[0mKL\u001b[0m \u001b[0;34m-\u001b[0m \u001b[0mRE\u001b[0m\u001b[0;34m\u001b[0m\u001b[0;34m\u001b[0m\u001b[0m\n",
            "\u001b[0;32m/usr/local/lib/python3.6/dist-packages/torch/nn/functional.py\u001b[0m in \u001b[0;36mbinary_cross_entropy\u001b[0;34m(input, target, weight, size_average, reduce, reduction)\u001b[0m\n\u001b[1;32m   2063\u001b[0m \u001b[0;34m\u001b[0m\u001b[0m\n\u001b[1;32m   2064\u001b[0m     return torch._C._nn.binary_cross_entropy(\n\u001b[0;32m-> 2065\u001b[0;31m         input, target, weight, reduction_enum)\n\u001b[0m\u001b[1;32m   2066\u001b[0m \u001b[0;34m\u001b[0m\u001b[0m\n\u001b[1;32m   2067\u001b[0m \u001b[0;34m\u001b[0m\u001b[0m\n",
            "\u001b[0;31mRuntimeError\u001b[0m: Assertion `x >= 0. && x <= 1.' failed. input value should be between 0~1, but got -nan at /pytorch/aten/src/THNN/generic/BCECriterion.c:62"
          ]
        }
      ]
    },
    {
      "cell_type": "code",
      "metadata": {
        "id": "RGztHz_V7mu3",
        "colab_type": "code",
        "colab": {}
      },
      "source": [
        ""
      ],
      "execution_count": 0,
      "outputs": []
    }
  ]
}