{
  "nbformat": 4,
  "nbformat_minor": 0,
  "metadata": {
    "colab": {
      "name": "Autoencoding_Variational_Bayes.ipynb",
      "provenance": [],
      "include_colab_link": true
    },
    "kernelspec": {
      "name": "python3",
      "display_name": "Python 3"
    }
  },
  "cells": [
    {
      "cell_type": "markdown",
      "metadata": {
        "id": "view-in-github",
        "colab_type": "text"
      },
      "source": [
        "<a href=\"https://colab.research.google.com/github/shainedl/Papers-Colab/blob/master/Autoencoding_Variational_Bayes.ipynb\" target=\"_parent\"><img src=\"https://colab.research.google.com/assets/colab-badge.svg\" alt=\"Open In Colab\"/></a>"
      ]
    },
    {
      "cell_type": "markdown",
      "metadata": {
        "id": "XP8kT-JxlTMG",
        "colab_type": "text"
      },
      "source": [
        "Based on *Auto-Encoding Variational Bayes* by Diederick P Kigma and Max Welling (Machine Learning Group, Universiteit van Amsterdam)"
      ]
    },
    {
      "cell_type": "code",
      "metadata": {
        "id": "O_2RvUvdlChL",
        "colab_type": "code",
        "colab": {}
      },
      "source": [
        "import torch\n",
        "import torch.nn as nn"
      ],
      "execution_count": 0,
      "outputs": []
    },
    {
      "cell_type": "code",
      "metadata": {
        "id": "7f_QS2nnlPND",
        "colab_type": "code",
        "colab": {}
      },
      "source": [
        "class VAE(nn.Module):\n",
        "  def __init__(self, input_size, hidden_units, N_z):\n",
        "    super(VAE, self).__init__()\n",
        "    \n",
        "    self.fc1 = nn.Linear(input_size, hidden_units)\n",
        "    self.fc21 = nn.Linear(hidden_units, N_z)\n",
        "    self.fc22 = nn.Linear(hidden_units, N_z)\n",
        "    self.fc3 = nn.Linear(N_z, hidden_units)\n",
        "    self.fc4 = nn.Linear(hidden_units, input_size)\n",
        "    self.tanh = nn.Tanh()\n",
        "  \n",
        "  def encode(self, x):\n",
        "    h_e  = self.tanh(self.fc1(x))\n",
        "    mu = self.fc21(h_e)\n",
        "    logvar = self.fc22(h_e)\n",
        "    \n",
        "    return mu, logvar\n",
        "  \n",
        "  def decode(self, z):\n",
        "    h_d = self.tanh(self.fc3(z))\n",
        "    \n",
        "    return self.tanh(self.fc4(h_d))\n",
        "  \n",
        "  def forward(self, x):\n",
        "    mu, logvar = self.encode(x)\n",
        "    z = self.__reparameterize(mu, logvar)\n",
        "    \n",
        "    return self.decode(z)\n",
        "  \n",
        "  def __reparameterize(self, mu, logvar):\n",
        "    std = torch.exp(logvar / 2)\n",
        "    eps = torch.randn_like(std)\n",
        "    \n",
        "    return mu + std * eps\n",
        "    "
      ],
      "execution_count": 0,
      "outputs": []
    },
    {
      "cell_type": "code",
      "metadata": {
        "id": "6oI2droyQsv8",
        "colab_type": "code",
        "colab": {}
      },
      "source": [
        ""
      ],
      "execution_count": 0,
      "outputs": []
    }
  ]
}